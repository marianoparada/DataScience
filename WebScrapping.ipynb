{
 "cells": [
  {
   "cell_type": "markdown",
   "id": "78b4978f-819e-45a3-8591-ce8662b0e892",
   "metadata": {},
   "source": [
    "# Objetivo Primario: Identificar y descargar los informes cargados en INTOSAI ATLAS y cargarlos automáticamente en ODS:OLACEFS.COM\n",
    "Para esto:\n",
    "1. Haremos WebScrapping con BeautifulSoup en la web de la INTOSAI\n",
    "2. Identificaremos diferentes estructuras en la web para almacenarlas. En principio nos centraremos en pais, año, titulo y link del informe\n",
    "3. Subiremos la info a ODS.OLACEFS.COM con ..."
   ]
  },
  {
   "cell_type": "code",
   "execution_count": 1,
   "id": "e7d015b4-c431-48b8-96b4-1ab7adadba6a",
   "metadata": {
    "tags": []
   },
   "outputs": [],
   "source": [
    "#!pip install bs4\n",
    "#!pip install requests\n",
    "#! pip install lxml\n",
    "#!pip install html5lib\n",
    "#! pip install Selenium"
   ]
  },
  {
   "cell_type": "code",
   "execution_count": 2,
   "id": "a80c4026-b7f5-4e03-9188-3460fa107b3d",
   "metadata": {
    "tags": []
   },
   "outputs": [],
   "source": [
    "import requests\n",
    "from bs4 import BeautifulSoup\n",
    "import pandas as pd\n",
    "import warnings\n",
    "from selenium import webdriver\n",
    "\n",
    "warnings.filterwarnings('ignore')"
   ]
  },
  {
   "cell_type": "markdown",
   "id": "45f8a06d-9ade-4bf5-90ab-60d9061497a0",
   "metadata": {},
   "source": [
    "# WebScrapping a ODS.OLACEFS.COM"
   ]
  },
  {
   "cell_type": "code",
   "execution_count": 3,
   "id": "71a0a1e2-4849-4384-9e68-b22e7633a7e4",
   "metadata": {},
   "outputs": [],
   "source": [
    "#html = wd.page_source\n",
    "#from bs4 import BeautifulSoup as bs\n",
    "#soup = bs(html)\n",
    "#print(soup.prettify()) #also show the html code of the document ;but this is readable"
   ]
  },
  {
   "cell_type": "markdown",
   "id": "b6b448ff-de8e-4609-b654-580b25765f3b",
   "metadata": {},
   "source": [
    "# Numeros y titulos de los ODS"
   ]
  },
  {
   "cell_type": "code",
   "execution_count": 4,
   "id": "ae993b94-798e-4282-be58-f809d476a609",
   "metadata": {},
   "outputs": [
    {
     "data": {
      "text/html": [
       "<div>\n",
       "<style scoped>\n",
       "    .dataframe tbody tr th:only-of-type {\n",
       "        vertical-align: middle;\n",
       "    }\n",
       "\n",
       "    .dataframe tbody tr th {\n",
       "        vertical-align: top;\n",
       "    }\n",
       "\n",
       "    .dataframe thead th {\n",
       "        text-align: right;\n",
       "    }\n",
       "</style>\n",
       "<table border=\"1\" class=\"dataframe\">\n",
       "  <thead>\n",
       "    <tr style=\"text-align: right;\">\n",
       "      <th></th>\n",
       "      <th>numero</th>\n",
       "      <th>titulo</th>\n",
       "    </tr>\n",
       "  </thead>\n",
       "  <tbody>\n",
       "    <tr>\n",
       "      <th>0</th>\n",
       "      <td>1</td>\n",
       "      <td>FIN DE LA POBREZA</td>\n",
       "    </tr>\n",
       "    <tr>\n",
       "      <th>1</th>\n",
       "      <td>2</td>\n",
       "      <td>HAMBRE CERO</td>\n",
       "    </tr>\n",
       "    <tr>\n",
       "      <th>2</th>\n",
       "      <td>3</td>\n",
       "      <td>SALUD Y BIENESTAR</td>\n",
       "    </tr>\n",
       "    <tr>\n",
       "      <th>3</th>\n",
       "      <td>4</td>\n",
       "      <td>EDUCACIÓN DE CALIDAD</td>\n",
       "    </tr>\n",
       "    <tr>\n",
       "      <th>4</th>\n",
       "      <td>5</td>\n",
       "      <td>IGUALDAD DE GÉNERO</td>\n",
       "    </tr>\n",
       "    <tr>\n",
       "      <th>5</th>\n",
       "      <td>6</td>\n",
       "      <td>AGUA LIMPIA Y SANEAMIENTO</td>\n",
       "    </tr>\n",
       "    <tr>\n",
       "      <th>6</th>\n",
       "      <td>7</td>\n",
       "      <td>ENERGÍA ASEQUIBLE Y NO CONTAMINANTE</td>\n",
       "    </tr>\n",
       "    <tr>\n",
       "      <th>7</th>\n",
       "      <td>8</td>\n",
       "      <td>TRABAJO DECENTE Y CRECIMIENTO ECONÓMICO</td>\n",
       "    </tr>\n",
       "    <tr>\n",
       "      <th>8</th>\n",
       "      <td>9</td>\n",
       "      <td>INDUSTRIA, INNOVACIÓN E INFRAESTRUCTURA</td>\n",
       "    </tr>\n",
       "    <tr>\n",
       "      <th>9</th>\n",
       "      <td>10</td>\n",
       "      <td>REDUCCIÓN DE LAS DESIGUALDADES</td>\n",
       "    </tr>\n",
       "    <tr>\n",
       "      <th>10</th>\n",
       "      <td>11</td>\n",
       "      <td>CIUDADES Y COMUNIDADES SOSTENIBLES</td>\n",
       "    </tr>\n",
       "    <tr>\n",
       "      <th>11</th>\n",
       "      <td>12</td>\n",
       "      <td>PRODUCCIÓN Y CONSUMO RESPONSABLES</td>\n",
       "    </tr>\n",
       "    <tr>\n",
       "      <th>12</th>\n",
       "      <td>13</td>\n",
       "      <td>ACCIÓN POR EL CLIMA</td>\n",
       "    </tr>\n",
       "    <tr>\n",
       "      <th>13</th>\n",
       "      <td>14</td>\n",
       "      <td>VIDA SUBMARINA</td>\n",
       "    </tr>\n",
       "    <tr>\n",
       "      <th>14</th>\n",
       "      <td>15</td>\n",
       "      <td>VIDA DE ECOSISTEMAS TERRESTRES</td>\n",
       "    </tr>\n",
       "    <tr>\n",
       "      <th>15</th>\n",
       "      <td>16</td>\n",
       "      <td>PAZ, JUSTICIA E INSTITUCIONES SÓLIDAS</td>\n",
       "    </tr>\n",
       "    <tr>\n",
       "      <th>16</th>\n",
       "      <td>17</td>\n",
       "      <td>ALIANZA PARA LOGRAR LOS OBJETIVOS</td>\n",
       "    </tr>\n",
       "  </tbody>\n",
       "</table>\n",
       "</div>"
      ],
      "text/plain": [
       "   numero                                   titulo\n",
       "0       1                        FIN DE LA POBREZA\n",
       "1       2                              HAMBRE CERO\n",
       "2       3                        SALUD Y BIENESTAR\n",
       "3       4                     EDUCACIÓN DE CALIDAD\n",
       "4       5                       IGUALDAD DE GÉNERO\n",
       "5       6                AGUA LIMPIA Y SANEAMIENTO\n",
       "6       7      ENERGÍA ASEQUIBLE Y NO CONTAMINANTE\n",
       "7       8  TRABAJO DECENTE Y CRECIMIENTO ECONÓMICO\n",
       "8       9  INDUSTRIA, INNOVACIÓN E INFRAESTRUCTURA\n",
       "9      10           REDUCCIÓN DE LAS DESIGUALDADES\n",
       "10     11       CIUDADES Y COMUNIDADES SOSTENIBLES\n",
       "11     12        PRODUCCIÓN Y CONSUMO RESPONSABLES\n",
       "12     13                      ACCIÓN POR EL CLIMA\n",
       "13     14                           VIDA SUBMARINA\n",
       "14     15           VIDA DE ECOSISTEMAS TERRESTRES\n",
       "15     16    PAZ, JUSTICIA E INSTITUCIONES SÓLIDAS\n",
       "16     17        ALIANZA PARA LOGRAR LOS OBJETIVOS"
      ]
     },
     "execution_count": 4,
     "metadata": {},
     "output_type": "execute_result"
    }
   ],
   "source": [
    "#import webDriver\n",
    "chrome_options = webdriver.ChromeOptions()\n",
    "chrome_options.add_argument('--headless')        #remove this for easy debbuing on your laptop /pc\n",
    "chrome_options.add_argument('--no-sandbox')                             \n",
    "chrome_options.add_argument('--disable-dev-shm-usage')\n",
    "wd = webdriver.Chrome('chromedriver.exe',chrome_options=chrome_options)\n",
    "url = \"https://www.undp.org/es/sustainable-development-goals\"            #url \n",
    "wd.get(url)\n",
    "#todos los ods en una lista:\n",
    "elements = wd.find_elements_by_class_name('sdg-card-wrapper')\n",
    "\n",
    "numeros =  []\n",
    "titulos = []\n",
    "#textos =  []\n",
    "\n",
    "from selenium.common.exceptions import NoSuchElementException\n",
    "for element in elements:\n",
    "    try: #more abut xpath in the following cell\n",
    "        titulo = element.find_element_by_xpath(\".//h4[@class = 'coh-heading']\").text\n",
    "        numero = element.find_element_by_xpath(\".//strong[@class = 'coh-inline-element delay-1 inviewport']\").text\n",
    "        #texto = element.find_element_by_xpath(\"//*[@id='modal-sdgs']/div/div/div[2]/div[2]/div[2]/div/div/div[1]\")\n",
    "        #texto = element.find_element(By.XPATH, \"/html/body/div[1]/div/main/div/div/div[2]/article/div/div/div[2]/div[3]/div[2]/div/div/div[2]/div[2]/div[2]/div/div/div[1]/div\")\n",
    "        #print(texto)   \n",
    "        numeros.append(numero)\n",
    "        titulos.append(titulo)\n",
    "        #textos.append(texto)\n",
    "    except:\n",
    "        NoSuchElementException\n",
    "\n",
    "#Armo el DataFrame\n",
    "ods = pd.DataFrame({'numero': numeros, 'titulo': titulos})#,'textos': textos })\n",
    "ods.head(17)"
   ]
  },
  {
   "cell_type": "code",
   "execution_count": 5,
   "id": "0910a1a5-595a-4c00-9b96-e4f0de9b1697",
   "metadata": {},
   "outputs": [],
   "source": [
    "#ods.to_excel('ods.xlsx')"
   ]
  },
  {
   "cell_type": "code",
   "execution_count": null,
   "id": "50643c10-32b5-4ab1-9da8-54e4d9d27cb0",
   "metadata": {},
   "outputs": [],
   "source": []
  },
  {
   "cell_type": "code",
   "execution_count": 162,
   "id": "48eb39a4-077e-4261-9a30-23a1f8a29e76",
   "metadata": {},
   "outputs": [],
   "source": [
    "#todos los ods en una lista:\n",
    "elements = wd.find_elements_by_xpath(\"/html/body/div[1]/div[2]/main/div/aside/div/div/div[2]/div[1]\")"
   ]
  },
  {
   "cell_type": "code",
   "execution_count": 164,
   "id": "235c4aa0-7fba-4dc1-9821-0519d78c74f1",
   "metadata": {},
   "outputs": [
    {
     "data": {
      "text/plain": [
       "[<selenium.webdriver.remote.webelement.WebElement (session=\"7f2cedde75293a2d7adc9d7d9905a6b3\", element=\"8230bc8a-6e66-4b54-90a0-61d64cc7b8c7\")>]"
      ]
     },
     "execution_count": 164,
     "metadata": {},
     "output_type": "execute_result"
    }
   ],
   "source": [
    "elements"
   ]
  },
  {
   "cell_type": "code",
   "execution_count": 150,
   "id": "185f27f9-da37-4979-8937-ec3e37e162d2",
   "metadata": {},
   "outputs": [],
   "source": [
    "titulos = []\n",
    "for element in elements:\n",
    "    print(element)\n",
    "    #titulo=element.find_element_by_xpath(\".//*[@id='collapsibleTable1']/tbody/tr[2]/td/div/p\")\n",
    "    #titulos.append(titulo)\n",
    "#len(titulos)"
   ]
  },
  {
   "cell_type": "code",
   "execution_count": 144,
   "id": "14e57727-6bf2-4f30-a3a2-e8f21a5f9325",
   "metadata": {},
   "outputs": [
    {
     "data": {
      "text/plain": [
       "0"
      ]
     },
     "execution_count": 144,
     "metadata": {},
     "output_type": "execute_result"
    }
   ],
   "source": [
    "len(titulos)"
   ]
  },
  {
   "cell_type": "code",
   "execution_count": 133,
   "id": "c8644f82-9fdf-48e6-9d3e-3e90725035db",
   "metadata": {},
   "outputs": [
    {
     "data": {
      "text/plain": [
       "[]"
      ]
     },
     "execution_count": 133,
     "metadata": {},
     "output_type": "execute_result"
    }
   ],
   "source": [
    "textos"
   ]
  },
  {
   "cell_type": "code",
   "execution_count": 92,
   "id": "7cb28ede-1fe2-4dc9-8dbd-67921ade09ec",
   "metadata": {},
   "outputs": [
    {
     "data": {
      "text/plain": [
       "'ALIANZA PARA LOGRAR LOS OBJETIVOS'"
      ]
     },
     "execution_count": 92,
     "metadata": {},
     "output_type": "execute_result"
    }
   ],
   "source": [
    "titulo"
   ]
  },
  {
   "cell_type": "code",
   "execution_count": 58,
   "id": "0f8cf624-f77c-475c-bf48-1e447c08db6b",
   "metadata": {},
   "outputs": [
    {
     "data": {
      "text/plain": [
       "[]"
      ]
     },
     "execution_count": 58,
     "metadata": {},
     "output_type": "execute_result"
    }
   ],
   "source": [
    "link: data-slug\n",
    "titulo: data-title\n",
    "numero: data-number\n"
   ]
  },
  {
   "cell_type": "code",
   "execution_count": null,
   "id": "aeab5a39-04ba-43e8-a257-753166e06247",
   "metadata": {},
   "outputs": [],
   "source": []
  },
  {
   "cell_type": "code",
   "execution_count": 45,
   "id": "28bf60f3-1528-4ebf-9bdf-0b16a096ea28",
   "metadata": {},
   "outputs": [
    {
     "name": "stdout",
     "output_type": "stream",
     "text": [
      "ODS 1  :  FIN DE LA POBREZA\n"
     ]
    }
   ],
   "source": [
    "#Encontramos el nombre \n",
    "#id attribute as twotabsearchtextbox\n",
    "#find_element_by_id finds the element with the \n",
    "\n",
    "#The bellow code finds all the div elements in the webpage with the class attribute as 'sg-col-inner'\n",
    "ods_nombre = wd.find_element_by_xpath('//*[@id=\"block-mainpagecontent\"]/article/div/div/div[2]/div[3]/div[1]/div[1]/button/h4').text\n",
    "ods_n = wd.find_element_by_xpath('//*[@id=\"block-mainpagecontent\"]/article/div/div/div[2]/div[3]/div[1]/div[1]/button/strong').text\n",
    "print(\"ODS\", ods_n , \" : \" , ods_nombre )\n",
    "\n"
   ]
  },
  {
   "cell_type": "code",
   "execution_count": null,
   "id": "4c20e595-d2d3-4186-ba83-69f37baa1b9c",
   "metadata": {},
   "outputs": [],
   "source": []
  },
  {
   "cell_type": "code",
   "execution_count": null,
   "id": "81df71d9-d438-421c-9a6e-a6d4d66a1cf8",
   "metadata": {},
   "outputs": [],
   "source": []
  },
  {
   "cell_type": "code",
   "execution_count": null,
   "id": "0a7d01d2-7410-40f6-b541-8c96d14c5bb2",
   "metadata": {},
   "outputs": [],
   "source": [
    "names =  []\n",
    "prices = []\n",
    "links =  []\n",
    "from selenium.common.exceptions import NoSuchElementException\n",
    "for element in elements:\n",
    "    try: #more abut xpath in the following cell\n",
    "        name = element.find_element_by_xpath(\".//span[@class = 'a-size-medium a-color-base a-text-normal']\").text\n",
    "        price = element.find_element_by_xpath(\".//span[@class = 'a-price-whole']\").text\n",
    "        link = element.find_element_by_xpath(\".//a[@class = 'a-size-base a-link-normal a-text-normal']\").get_attribute('href')\n",
    "        prices.append(price)\n",
    "        names.append(name)\n",
    "        links.append(link)\n",
    "    except:\n",
    "        NoSuchElementException"
   ]
  },
  {
   "cell_type": "code",
   "execution_count": null,
   "id": "8e0c0455-4f67-4acd-a028-667d940133d9",
   "metadata": {},
   "outputs": [],
   "source": []
  },
  {
   "cell_type": "code",
   "execution_count": null,
   "id": "cc1c1423-2476-419c-9e88-cea85eb10a2b",
   "metadata": {},
   "outputs": [],
   "source": []
  },
  {
   "cell_type": "code",
   "execution_count": null,
   "id": "18af6cdc-2dc0-49bf-ac90-ee8a1c42187e",
   "metadata": {},
   "outputs": [],
   "source": []
  },
  {
   "cell_type": "code",
   "execution_count": null,
   "id": "a004051e-c813-407c-9abf-0baad2796f34",
   "metadata": {},
   "outputs": [],
   "source": [
    "for row,datos in df.iterrows():\n",
    "    #URL del formulario\n",
    "    driver.get('https://docs.google.com/forms/d/e/1FAIpQLSfHLQEXX9f20s4SKIvPnIz5iFRyDL6NAHDb6O1KYvedqGxrcw/viewform')\n",
    "    titulo = datos['titulos']\n",
    "    pais = datos['pais']\n",
    "    anio = datos['anio']\n",
    "    # Ingresar titulo\n",
    "    driver.find_element_by_xpath('//*[@id=\"mG61Hd\"]/div[2]/div/div[2]/div[1]/div/div/div[2]/div/div[1]/div/div[1]/input').send_keys(titulo)\n",
    "    # Ingresar pais\n",
    "    driver.find_element_by_xpath('//*[@id=\"mG61Hd\"]/div[2]/div/div[2]/div[2]/div/div/div[2]/div/div[1]/div/div[1]/input').send_keys(pais)\n",
    "    # Ingresar año\n",
    "    driver.find_element_by_xpath('//*[@id=\"mG61Hd\"]/div[2]/div/div[2]/div[3]/div/div/div[2]/div/div[1]/div/div[1]/input').send_keys(anio)\n",
    "    driver.find_element_by_xpath('//*[@id=\"mG61Hd\"]/div[2]/div/div[3]/div[1]/div[1]/div/span').click()"
   ]
  },
  {
   "cell_type": "code",
   "execution_count": 14,
   "id": "56e36b19-1b8f-4fea-bb04-eb831c472179",
   "metadata": {},
   "outputs": [
    {
     "name": "stdout",
     "output_type": "stream",
     "text": [
      " Los ODS en acción \n"
     ]
    }
   ],
   "source": [
    "website = 'https://www.undp.org/es/sustainable-development-goals#fin-pobreza'\n",
    "result = requests.get(website, verify=False)\n",
    "content = result.content\n",
    "soup = BeautifulSoup(content, 'html5lib' ,from_encoding=\"utf-8\")\n",
    "titulo = soup.find('h2', {'class': 'coh-heading'}).get_text()\n",
    "\n",
    "print (titulo)\n",
    "# Creamos las listas con el scrap de cada variable\n",
    "#Titulo\n",
    "#titulo= soup.find('h2',{'ui header white'}).get_text().replace('\\n','').strip() "
   ]
  },
  {
   "cell_type": "code",
   "execution_count": null,
   "id": "ad91ce6b-1817-4896-a5a9-e1efe810560a",
   "metadata": {},
   "outputs": [],
   "source": [
    "website = 'https://ods.olacefs.com/ods/1'\n",
    "result = requests.get(website, verify=False)\n",
    "content = result.content\n",
    "soup = BeautifulSoup(content, 'html5lib' ,from_encoding=\"utf-8\")\n",
    "sdg = soup.find_all('div', {'class': 'ui stretched grid'})\n",
    "\n",
    "# Creamos las listas con el scrap de cada variable\n",
    "#Titulo\n",
    "titulo= sdg.find('h2',{'ui header white'}).get_text().replace('\\n','').strip() \n",
    "\n",
    "#Texto\n",
    "#Publicaciones\n",
    "#Vistas\n",
    "#Likes\n",
    "#Votos\n",
    "\n",
    "paises = [result.find('h6',{'card-title'}).get_text().replace('\\n','').strip() for result in sdg]\n",
    "links = [[\"https://www.intosai.org\"+a.get('href') for a in result.find_all('a', class_=\"card-link\")] for result in sdg]\n",
    "peso = [[a.get_text().replace('\\n','').strip() for a in result.find_all('span', class_=\"badge badge-secondary\")] for result in sdg]\n",
    "etiquetas = [[a.get_text().replace('\\n','').strip() for a in result.find_all('span', class_=\"sdg-btn-sm badge badge-pill badge-warning\")] for result in sdg]\n",
    "titulos = [result.find('h5',{'card-subtitle mb-2 text-muted'}).get_text().replace('\\n','').strip() for result in sdg]\n",
    "idiomas = [[a.get_text().replace('\\n','').strip() for a in result.find_all('span', class_=\"sdg-btn-sm badge badge-success\")] for result in sdg]\n",
    "\n",
    "#Armo el DataFrame\n",
    "informes = pd.DataFrame({'paises': paises, 'titulos': titulos,'links': links, 'peso': peso, 'etiquetas': etiquetas,'idiomas': idiomas})\n",
    "\n",
    "# Split de pais y año\n",
    "informes[\"pais\"] = informes[\"paises\"].str.extract(r'(.*),')\n",
    "informes[\"anio\"] = informes[\"paises\"].str.extract(r'(\\w+(?: \\w+)*)$')\n",
    "\n",
    "#Drop de columna paises\n",
    "informes = informes.drop(['paises'], axis=1)\n",
    "informes.head(3)"
   ]
  },
  {
   "cell_type": "code",
   "execution_count": null,
   "id": "3e935bb1-05fd-4e96-a8a2-72c822a413df",
   "metadata": {},
   "outputs": [],
   "source": []
  },
  {
   "cell_type": "code",
   "execution_count": null,
   "id": "52c43d5a-f664-4b95-9e14-e6b2e8211f68",
   "metadata": {},
   "outputs": [],
   "source": []
  },
  {
   "cell_type": "code",
   "execution_count": null,
   "id": "aec90e1f-f767-44d7-b63d-87e3cdfa22f1",
   "metadata": {},
   "outputs": [],
   "source": []
  },
  {
   "cell_type": "markdown",
   "id": "f05b0b2c-4c44-4d03-a840-72e93b2df9da",
   "metadata": {},
   "source": [
    "### WebScrapping a Intosai.org"
   ]
  },
  {
   "cell_type": "code",
   "execution_count": 3,
   "id": "244a15b1-8b20-4711-8f60-e38f90853726",
   "metadata": {},
   "outputs": [
    {
     "data": {
      "text/html": [
       "<div>\n",
       "<style scoped>\n",
       "    .dataframe tbody tr th:only-of-type {\n",
       "        vertical-align: middle;\n",
       "    }\n",
       "\n",
       "    .dataframe tbody tr th {\n",
       "        vertical-align: top;\n",
       "    }\n",
       "\n",
       "    .dataframe thead th {\n",
       "        text-align: right;\n",
       "    }\n",
       "</style>\n",
       "<table border=\"1\" class=\"dataframe\">\n",
       "  <thead>\n",
       "    <tr style=\"text-align: right;\">\n",
       "      <th></th>\n",
       "      <th>titulos</th>\n",
       "      <th>links</th>\n",
       "      <th>peso</th>\n",
       "      <th>etiquetas</th>\n",
       "      <th>idiomas</th>\n",
       "      <th>pais</th>\n",
       "      <th>anio</th>\n",
       "    </tr>\n",
       "  </thead>\n",
       "  <tbody>\n",
       "    <tr>\n",
       "      <th>0</th>\n",
       "      <td>Government preparedness to implement the SDGs</td>\n",
       "      <td>[https://www.intosai.org/fileadmin/downloads/f...</td>\n",
       "      <td>[614 KB, 513 KB, 1 MB, 1 MB]</td>\n",
       "      <td>[AFROSAI, ARABOSAI]</td>\n",
       "      <td>[English, French, Arabic]</td>\n",
       "      <td>Algeria</td>\n",
       "      <td>2018</td>\n",
       "    </tr>\n",
       "    <tr>\n",
       "      <th>1</th>\n",
       "      <td>Gestión de las TICs para la implementación y s...</td>\n",
       "      <td>[https://www.intosai.org/fileadmin/downloads/f...</td>\n",
       "      <td>[151 KB, 2 MB]</td>\n",
       "      <td>[OLACEFS]</td>\n",
       "      <td>[Spanish]</td>\n",
       "      <td>Argentina</td>\n",
       "      <td>2020</td>\n",
       "    </tr>\n",
       "    <tr>\n",
       "      <th>2</th>\n",
       "      <td>Auditoría Coordinada de Desempeño de la Prepar...</td>\n",
       "      <td>[https://www.intosai.org/fileadmin/downloads/f...</td>\n",
       "      <td>[624 KB, 382 KB, 5 MB]</td>\n",
       "      <td>[OLACEFS]</td>\n",
       "      <td>[Spanish]</td>\n",
       "      <td>Argentina</td>\n",
       "      <td>2019</td>\n",
       "    </tr>\n",
       "  </tbody>\n",
       "</table>\n",
       "</div>"
      ],
      "text/plain": [
       "                                             titulos  \\\n",
       "0      Government preparedness to implement the SDGs   \n",
       "1  Gestión de las TICs para la implementación y s...   \n",
       "2  Auditoría Coordinada de Desempeño de la Prepar...   \n",
       "\n",
       "                                               links  \\\n",
       "0  [https://www.intosai.org/fileadmin/downloads/f...   \n",
       "1  [https://www.intosai.org/fileadmin/downloads/f...   \n",
       "2  [https://www.intosai.org/fileadmin/downloads/f...   \n",
       "\n",
       "                           peso            etiquetas  \\\n",
       "0  [614 KB, 513 KB, 1 MB, 1 MB]  [AFROSAI, ARABOSAI]   \n",
       "1                [151 KB, 2 MB]            [OLACEFS]   \n",
       "2        [624 KB, 382 KB, 5 MB]            [OLACEFS]   \n",
       "\n",
       "                     idiomas       pais  anio  \n",
       "0  [English, French, Arabic]    Algeria  2018  \n",
       "1                  [Spanish]  Argentina  2020  \n",
       "2                  [Spanish]  Argentina  2019  "
      ]
     },
     "execution_count": 3,
     "metadata": {},
     "output_type": "execute_result"
    }
   ],
   "source": [
    "website = 'https://www.intosai.org/system/sdg-atlas'\n",
    "result = requests.get(website, verify=False)\n",
    "content = result.content\n",
    "soup = BeautifulSoup(content, 'html5lib' ,from_encoding=\"utf-8\")\n",
    "sdg = soup.find_all('div', {'class': 'article articletype-3'})\n",
    "\n",
    "# Creamos las listas con el scrap de cada variable\n",
    "paises = [result.find('h6',{'card-title'}).get_text().replace('\\n','').strip() for result in sdg]\n",
    "links = [[\"https://www.intosai.org\"+a.get('href') for a in result.find_all('a', class_=\"card-link\")] for result in sdg]\n",
    "peso = [[a.get_text().replace('\\n','').strip() for a in result.find_all('span', class_=\"badge badge-secondary\")] for result in sdg]\n",
    "etiquetas = [[a.get_text().replace('\\n','').strip() for a in result.find_all('span', class_=\"sdg-btn-sm badge badge-pill badge-warning\")] for result in sdg]\n",
    "titulos = [result.find('h5',{'card-subtitle mb-2 text-muted'}).get_text().replace('\\n','').strip() for result in sdg]\n",
    "idiomas = [[a.get_text().replace('\\n','').strip() for a in result.find_all('span', class_=\"sdg-btn-sm badge badge-success\")] for result in sdg]\n",
    "\n",
    "#Armo el DataFrame\n",
    "informes = pd.DataFrame({'paises': paises, 'titulos': titulos,'links': links, 'peso': peso, 'etiquetas': etiquetas,'idiomas': idiomas})\n",
    "\n",
    "# Split de pais y año\n",
    "informes[\"pais\"] = informes[\"paises\"].str.extract(r'(.*),')\n",
    "informes[\"anio\"] = informes[\"paises\"].str.extract(r'(\\w+(?: \\w+)*)$')\n",
    "\n",
    "#Drop de columna paises\n",
    "informes = informes.drop(['paises'], axis=1)\n",
    "informes.head(3)"
   ]
  },
  {
   "cell_type": "markdown",
   "id": "6c5d1e54-fe7a-449b-b47c-84418a28edde",
   "metadata": {},
   "source": [
    "### Guardamos en Excel"
   ]
  },
  {
   "cell_type": "code",
   "execution_count": 4,
   "id": "4475bcdd-692d-4ff7-abb3-69b47b33f561",
   "metadata": {},
   "outputs": [],
   "source": [
    "informes.to_excel('sdg_atlas.xlsx')"
   ]
  },
  {
   "cell_type": "markdown",
   "id": "8bb660ca-53b9-4b3b-8f9d-a8f4187f9518",
   "metadata": {},
   "source": [
    "# Cargamos los datos en ODS.OLACEFS con Selenium"
   ]
  },
  {
   "cell_type": "code",
   "execution_count": 5,
   "id": "c13e8040-b957-4dc5-a4b7-9648b28d6467",
   "metadata": {},
   "outputs": [],
   "source": []
  },
  {
   "cell_type": "code",
   "execution_count": 6,
   "id": "33ca00d6-5164-472f-8f78-ec99e891cf04",
   "metadata": {},
   "outputs": [],
   "source": [
    "driver = webdriver.Chrome('chromedriver.exe')"
   ]
  },
  {
   "cell_type": "code",
   "execution_count": 7,
   "id": "2e27629d-0bfa-4f2a-ad5b-64c5593f575c",
   "metadata": {},
   "outputs": [],
   "source": [
    "df = pd.read_excel('sdg_atlas.xlsx')"
   ]
  },
  {
   "cell_type": "code",
   "execution_count": 8,
   "id": "2431605a-d89c-4abc-a77b-b1ab0ddeb124",
   "metadata": {},
   "outputs": [],
   "source": [
    "for row,datos in df.iterrows():\n",
    "    #URL del formulario\n",
    "    driver.get('https://docs.google.com/forms/d/e/1FAIpQLSfHLQEXX9f20s4SKIvPnIz5iFRyDL6NAHDb6O1KYvedqGxrcw/viewform')\n",
    "    titulo = datos['titulos']\n",
    "    pais = datos['pais']\n",
    "    anio = datos['anio']\n",
    "    # Ingresar titulo\n",
    "    driver.find_element_by_xpath('//*[@id=\"mG61Hd\"]/div[2]/div/div[2]/div[1]/div/div/div[2]/div/div[1]/div/div[1]/input').send_keys(titulo)\n",
    "    # Ingresar pais\n",
    "    driver.find_element_by_xpath('//*[@id=\"mG61Hd\"]/div[2]/div/div[2]/div[2]/div/div/div[2]/div/div[1]/div/div[1]/input').send_keys(pais)\n",
    "    # Ingresar año\n",
    "    driver.find_element_by_xpath('//*[@id=\"mG61Hd\"]/div[2]/div/div[2]/div[3]/div/div/div[2]/div/div[1]/div/div[1]/input').send_keys(anio)\n",
    "    driver.find_element_by_xpath('//*[@id=\"mG61Hd\"]/div[2]/div/div[3]/div[1]/div[1]/div/span').click()"
   ]
  },
  {
   "cell_type": "code",
   "execution_count": null,
   "id": "a7d40448-6c2f-41cf-b41f-6a0a2fe09fc1",
   "metadata": {},
   "outputs": [],
   "source": []
  },
  {
   "cell_type": "code",
   "execution_count": null,
   "id": "2ab5b528-d952-490b-af51-37b172d3a7e6",
   "metadata": {},
   "outputs": [],
   "source": []
  }
 ],
 "metadata": {
  "kernelspec": {
   "display_name": "Python 3 (ipykernel)",
   "language": "python",
   "name": "python3"
  },
  "language_info": {
   "codemirror_mode": {
    "name": "ipython",
    "version": 3
   },
   "file_extension": ".py",
   "mimetype": "text/x-python",
   "name": "python",
   "nbconvert_exporter": "python",
   "pygments_lexer": "ipython3",
   "version": "3.8.13"
  }
 },
 "nbformat": 4,
 "nbformat_minor": 5
}
