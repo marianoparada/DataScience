{
 "cells": [
  {
   "cell_type": "code",
   "execution_count": 10,
   "id": "bf59e96b-f786-4ce1-8fbf-6e5ee937365b",
   "metadata": {
    "jupyter": {
     "source_hidden": true
    },
    "tags": []
   },
   "outputs": [
    {
     "data": {
      "text/plain": [
       "\"\\nMétodos de la clase:\\n    url: str\\n\\tdate: datetime.datetime\\n\\tcontent: str\\n\\trenderedContent: str\\n\\tid: int\\n\\tuser: 'User'\\n\\treplyCount: int\\n\\tretweetCount: int\\n\\tlikeCount: int\\n\\tquoteCount: int\\n\\tconversationId: int\\n\\tlang: str\\n\\tsource: str\\n\\tsourceUrl: typing.Optional[str] = None\\n\\tsourceLabel: typing.Optional[str] = None\\n\\tlinks: typing.Optional[typing.List['TextLink']] = None\\n\\tmedia: typing.Optional[typing.List['Medium']] = None\\n\\tretweetedTweet: typing.Optional['Tweet'] = None\\n\\tquotedTweet: typing.Optional['Tweet'] = None\\n\\tinReplyToTweetId: typing.Optional[int] = None\\n\\tinReplyToUser: typing.Optional['User'] = None\\n\\tmentionedUsers: typing.Optional[typing.List['User']] = None\\n\\tcoordinates: typing.Optional['Coordinates'] = None\\n\\tplace: typing.Optional['Place'] = None\\n\\thashtags: typing.Optional[typing.List[str]] = None\\n\\tcashtags: typing.Optional[typing.List[str]] = None\\n\\tcard: typing.Optional['Card'] = None\\n\""
      ]
     },
     "execution_count": 10,
     "metadata": {},
     "output_type": "execute_result"
    }
   ],
   "source": [
    "'''\n",
    "Métodos de la clase:\n",
    "    url: str\n",
    "\tdate: datetime.datetime\n",
    "\tcontent: str\n",
    "\trenderedContent: str\n",
    "\tid: int\n",
    "\tuser: 'User'\n",
    "\treplyCount: int\n",
    "\tretweetCount: int\n",
    "\tlikeCount: int\n",
    "\tquoteCount: int\n",
    "\tconversationId: int\n",
    "\tlang: str\n",
    "\tsource: str\n",
    "\tsourceUrl: typing.Optional[str] = None\n",
    "\tsourceLabel: typing.Optional[str] = None\n",
    "\tlinks: typing.Optional[typing.List['TextLink']] = None\n",
    "\tmedia: typing.Optional[typing.List['Medium']] = None\n",
    "\tretweetedTweet: typing.Optional['Tweet'] = None\n",
    "\tquotedTweet: typing.Optional['Tweet'] = None\n",
    "\tinReplyToTweetId: typing.Optional[int] = None\n",
    "\tinReplyToUser: typing.Optional['User'] = None\n",
    "\tmentionedUsers: typing.Optional[typing.List['User']] = None\n",
    "\tcoordinates: typing.Optional['Coordinates'] = None\n",
    "\tplace: typing.Optional['Place'] = None\n",
    "\thashtags: typing.Optional[typing.List[str]] = None\n",
    "\tcashtags: typing.Optional[typing.List[str]] = None\n",
    "\tcard: typing.Optional['Card'] = None\n",
    "'''"
   ]
  },
  {
   "cell_type": "code",
   "execution_count": 11,
   "id": "44490572-2325-4820-8ac7-c21d86b39c46",
   "metadata": {},
   "outputs": [],
   "source": [
    "#!pip install sntwitter\n",
    "import snscrape.modules.twitter as sntwitter\n",
    "import pandas as pd\n",
    "# query: filter: links -> con links en el tweet\n",
    "# query: near:Madrid within:15km\n",
    "\n",
    "query = \"#ods igualdad filter:links\"\n",
    "tweets = []\n",
    "limit = 10000\n",
    "\n",
    "for tweet in sntwitter.TwitterSearchScraper(query).get_items():\n",
    "    \n",
    "    # print(vars(tweet))\n",
    "    # break\n",
    "    if len(tweets) == limit:\n",
    "        break\n",
    "    else:\n",
    "        tweets.append([tweet.date, tweet.user,tweet.lang,tweet.coordinates ,tweet.content, tweet.likeCount, tweet.retweetCount,tweet.replyCount, tweet.url])\n",
    "        \n",
    "df = pd.DataFrame(tweets, columns=['Date', 'User','Lang','coordinates', 'Tweet', 'Likes','Retweets' , 'Replies' , 'Url'])"
   ]
  },
  {
   "cell_type": "code",
   "execution_count": 12,
   "id": "c58a3dea-f5b9-4a98-9105-b77a28edba7b",
   "metadata": {},
   "outputs": [],
   "source": [
    "#df.sort_values(by=\"Likes\", ascending=False)"
   ]
  },
  {
   "cell_type": "code",
   "execution_count": 13,
   "id": "5444baec-f09d-4189-a47c-30f6496f975a",
   "metadata": {},
   "outputs": [],
   "source": [
    "#df.Lang.value_counts()"
   ]
  },
  {
   "cell_type": "code",
   "execution_count": 14,
   "id": "6c2d5fda-3343-4980-9a24-2da3992050c9",
   "metadata": {},
   "outputs": [],
   "source": [
    "#sacamos el huso horario para que sea compatible con excel\n",
    "import datetime as dt\n",
    "df['Date'] = df['Date'].dt.tz_localize(None)"
   ]
  },
  {
   "cell_type": "code",
   "execution_count": 15,
   "id": "505949c7-f81d-4a74-86c6-2e26ce24f1cb",
   "metadata": {},
   "outputs": [
    {
     "name": "stderr",
     "output_type": "stream",
     "text": [
      "[nltk_data] Downloading package vader_lexicon to\n",
      "[nltk_data]     C:\\Users\\mparada\\AppData\\Roaming\\nltk_data...\n",
      "[nltk_data]   Package vader_lexicon is already up-to-date!\n"
     ]
    }
   ],
   "source": [
    "import nltk\n",
    "from nltk.sentiment.vader import SentimentIntensityAnalyzer\n",
    "nltk.download(\"vader_lexicon\")\n",
    "### Analizando el sentimiento con VADER\n",
    "sia = SentimentIntensityAnalyzer()\n",
    "# aplicamoc vader para asignar un valor positivo, negativo, neutro y un compuesto que integra todos\n",
    "df[\"neg\"] = df[\"Tweet\"].apply(lambda x:sia.polarity_scores(x)[\"neg\"])\n",
    "df[\"pos\"] = df[\"Tweet\"].apply(lambda x:sia.polarity_scores(x)[\"pos\"])\n",
    "df[\"neu\"] = df[\"Tweet\"].apply(lambda x:sia.polarity_scores(x)[\"neu\"])\n",
    "df[\"compuesto\"] = df[\"Tweet\"].apply(lambda x:sia.polarity_scores(x)[\"compound\"])"
   ]
  },
  {
   "cell_type": "code",
   "execution_count": 16,
   "id": "a07a05d3-7dd0-4547-a15c-fcbce8f74e68",
   "metadata": {},
   "outputs": [
    {
     "data": {
      "text/html": [
       "<div>\n",
       "<style scoped>\n",
       "    .dataframe tbody tr th:only-of-type {\n",
       "        vertical-align: middle;\n",
       "    }\n",
       "\n",
       "    .dataframe tbody tr th {\n",
       "        vertical-align: top;\n",
       "    }\n",
       "\n",
       "    .dataframe thead th {\n",
       "        text-align: right;\n",
       "    }\n",
       "</style>\n",
       "<table border=\"1\" class=\"dataframe\">\n",
       "  <thead>\n",
       "    <tr style=\"text-align: right;\">\n",
       "      <th></th>\n",
       "      <th>Date</th>\n",
       "      <th>User</th>\n",
       "      <th>Lang</th>\n",
       "      <th>coordinates</th>\n",
       "      <th>Tweet</th>\n",
       "      <th>Likes</th>\n",
       "      <th>Retweets</th>\n",
       "      <th>Replies</th>\n",
       "      <th>Url</th>\n",
       "      <th>neg</th>\n",
       "      <th>pos</th>\n",
       "      <th>neu</th>\n",
       "      <th>compuesto</th>\n",
       "    </tr>\n",
       "  </thead>\n",
       "  <tbody>\n",
       "    <tr>\n",
       "      <th>142</th>\n",
       "      <td>2022-04-25 16:26:42</td>\n",
       "      <td>https://twitter.com/forgender</td>\n",
       "      <td>es</td>\n",
       "      <td>None</td>\n",
       "      <td>🟣Las #certificaciones a favor de la #Igualdad ...</td>\n",
       "      <td>6</td>\n",
       "      <td>6</td>\n",
       "      <td>0</td>\n",
       "      <td>https://twitter.com/forgender/status/151862757...</td>\n",
       "      <td>0.0</td>\n",
       "      <td>0.074</td>\n",
       "      <td>0.926</td>\n",
       "      <td>0.4019</td>\n",
       "    </tr>\n",
       "    <tr>\n",
       "      <th>173</th>\n",
       "      <td>2022-04-08 06:18:44</td>\n",
       "      <td>https://twitter.com/CEIPForoRomano</td>\n",
       "      <td>es</td>\n",
       "      <td>None</td>\n",
       "      <td>El equipo de atención a la diversidad del @cei...</td>\n",
       "      <td>16</td>\n",
       "      <td>3</td>\n",
       "      <td>0</td>\n",
       "      <td>https://twitter.com/CEIPForoRomano/status/1512...</td>\n",
       "      <td>0.0</td>\n",
       "      <td>0.078</td>\n",
       "      <td>0.922</td>\n",
       "      <td>0.4003</td>\n",
       "    </tr>\n",
       "    <tr>\n",
       "      <th>290</th>\n",
       "      <td>2022-03-08 15:10:07</td>\n",
       "      <td>https://twitter.com/ikerjimenezm</td>\n",
       "      <td>es</td>\n",
       "      <td>None</td>\n",
       "      <td>La dirección de #ImpulsoGlobal es resultado de...</td>\n",
       "      <td>25</td>\n",
       "      <td>3</td>\n",
       "      <td>1</td>\n",
       "      <td>https://twitter.com/ikerjimenezm/status/150121...</td>\n",
       "      <td>0.0</td>\n",
       "      <td>0.066</td>\n",
       "      <td>0.934</td>\n",
       "      <td>0.4019</td>\n",
       "    </tr>\n",
       "  </tbody>\n",
       "</table>\n",
       "</div>"
      ],
      "text/plain": [
       "                   Date                                User Lang coordinates  \\\n",
       "142 2022-04-25 16:26:42       https://twitter.com/forgender   es        None   \n",
       "173 2022-04-08 06:18:44  https://twitter.com/CEIPForoRomano   es        None   \n",
       "290 2022-03-08 15:10:07    https://twitter.com/ikerjimenezm   es        None   \n",
       "\n",
       "                                                 Tweet  Likes  Retweets  \\\n",
       "142  🟣Las #certificaciones a favor de la #Igualdad ...      6         6   \n",
       "173  El equipo de atención a la diversidad del @cei...     16         3   \n",
       "290  La dirección de #ImpulsoGlobal es resultado de...     25         3   \n",
       "\n",
       "     Replies                                                Url  neg    pos  \\\n",
       "142        0  https://twitter.com/forgender/status/151862757...  0.0  0.074   \n",
       "173        0  https://twitter.com/CEIPForoRomano/status/1512...  0.0  0.078   \n",
       "290        1  https://twitter.com/ikerjimenezm/status/150121...  0.0  0.066   \n",
       "\n",
       "       neu  compuesto  \n",
       "142  0.926     0.4019  \n",
       "173  0.922     0.4003  \n",
       "290  0.934     0.4019  "
      ]
     },
     "execution_count": 16,
     "metadata": {},
     "output_type": "execute_result"
    }
   ],
   "source": [
    "# Filtramos por likes, retweets y positividad\n",
    "retweets=1\n",
    "likes=4\n",
    "compuesto=0.4\n",
    "df.loc [(df.Retweets > retweets) & (df.Likes > likes) & (df.compuesto > compuesto)].head(3)"
   ]
  },
  {
   "cell_type": "code",
   "execution_count": 17,
   "id": "a01fcffd-3604-413a-8a36-5e602235d261",
   "metadata": {},
   "outputs": [],
   "source": [
    "#Guardamos en Excel\n",
    "df.to_excel('sdg_noticias.xlsx')"
   ]
  },
  {
   "cell_type": "code",
   "execution_count": 18,
   "id": "68219158-66e6-4a3a-a891-95850d13eaf4",
   "metadata": {},
   "outputs": [
    {
     "data": {
      "text/plain": [
       "'2291    Un golpe de realidad: ningún país ha alcanzado...\\n2125    Ningún país ha alcanzado la igualdad de género...'"
      ]
     },
     "execution_count": 18,
     "metadata": {},
     "output_type": "execute_result"
    }
   ],
   "source": [
    "#df.loc[df['Tweet'].nlargest(1,['Likes'])]\n",
    "whatsapp = df.nlargest(2,['Likes'])\n",
    "whatsapp = str(whatsapp.Tweet.to_string())\n",
    "whatsapp"
   ]
  },
  {
   "cell_type": "code",
   "execution_count": 19,
   "id": "f99ae259-1223-444b-a5d4-a25fc7c6e29b",
   "metadata": {},
   "outputs": [
    {
     "name": "stdout",
     "output_type": "stream",
     "text": [
      "In 17660 Seconds WhatsApp will open and after 15 Seconds Message will be Delivered!\n"
     ]
    }
   ],
   "source": [
    "#pip install pywhatkit\n",
    "#pip install flask\n",
    "\n",
    "import pywhatkit\n",
    "#numero_telefono= input(\"ingresa numero telefono: \")\n",
    "numero_telefono= \"+5491131753300\"\n",
    "\n",
    "pywhatkit.sendwhatmsg(numero_telefono,whatsapp, 14 , 13, 15, True, 2)"
   ]
  },
  {
   "cell_type": "code",
   "execution_count": null,
   "id": "9874e87a-185e-4fef-bc4e-028c12058920",
   "metadata": {},
   "outputs": [],
   "source": []
  },
  {
   "cell_type": "code",
   "execution_count": null,
   "id": "689446fb-18c5-406a-adc1-a0665d1c161f",
   "metadata": {},
   "outputs": [],
   "source": []
  },
  {
   "cell_type": "code",
   "execution_count": null,
   "id": "3cf70d98-2cb4-45e6-a052-5281ebb042a1",
   "metadata": {},
   "outputs": [],
   "source": []
  },
  {
   "cell_type": "code",
   "execution_count": null,
   "id": "980181d0-997b-4573-a5af-315a8065bea3",
   "metadata": {},
   "outputs": [],
   "source": []
  },
  {
   "cell_type": "code",
   "execution_count": 20,
   "id": "2edaa0fe-df50-4f24-8aa9-c4c7ddeec834",
   "metadata": {},
   "outputs": [],
   "source": [
    "#pywhatkit.sendwhatmsg_to_group (id)"
   ]
  },
  {
   "cell_type": "code",
   "execution_count": null,
   "id": "a577a229-94b5-4959-b391-c5805664da1a",
   "metadata": {},
   "outputs": [],
   "source": []
  },
  {
   "cell_type": "code",
   "execution_count": null,
   "id": "15d82d2b-ab00-41ab-92e2-ed44414ae062",
   "metadata": {},
   "outputs": [],
   "source": []
  },
  {
   "cell_type": "code",
   "execution_count": null,
   "id": "55c32594-9a91-432d-97f7-0407b9d6847b",
   "metadata": {},
   "outputs": [],
   "source": []
  },
  {
   "cell_type": "code",
   "execution_count": null,
   "id": "bb6f0a7b-50bc-42d1-a844-de7a422ccde5",
   "metadata": {},
   "outputs": [],
   "source": []
  },
  {
   "cell_type": "code",
   "execution_count": null,
   "id": "644e3a1e-f95e-4e24-b5a0-9e0fdf539815",
   "metadata": {},
   "outputs": [],
   "source": []
  },
  {
   "cell_type": "code",
   "execution_count": null,
   "id": "d9a47319-66fe-4238-b402-d083a32e15d5",
   "metadata": {},
   "outputs": [],
   "source": []
  }
 ],
 "metadata": {
  "kernelspec": {
   "display_name": "Python 3 (ipykernel)",
   "language": "python",
   "name": "python3"
  },
  "language_info": {
   "codemirror_mode": {
    "name": "ipython",
    "version": 3
   },
   "file_extension": ".py",
   "mimetype": "text/x-python",
   "name": "python",
   "nbconvert_exporter": "python",
   "pygments_lexer": "ipython3",
   "version": "3.8.13"
  }
 },
 "nbformat": 4,
 "nbformat_minor": 5
}
