{
 "cells": [
  {
   "cell_type": "markdown",
   "metadata": {},
   "source": [
    "# TP3\n",
    "Por Mariano Parada <BR>\n",
    "DS-33  -  2020<BR>\n",
    "[Github](https://github.com/marianoparada/DataScience)\n"
   ]
  },
  {
   "cell_type": "markdown",
   "metadata": {},
   "source": [
    "### Aclaraciones previas:\n",
    "Para agilizar el proceso se tomó una muestra del 15%  (si se quisiera ver el universo, cambiar la variable [muestra] de la celda 7)"
   ]
  },
  {
   "cell_type": "code",
   "execution_count": null,
   "metadata": {},
   "outputs": [],
   "source": [
    "# ! pip install sentiment-analysis-spanish"
   ]
  },
  {
   "cell_type": "code",
   "execution_count": 2,
   "metadata": {},
   "outputs": [
    {
     "name": "stderr",
     "output_type": "stream",
     "text": [
      "[nltk_data] Downloading package wordnet to\n",
      "[nltk_data]     C:\\Users\\Mariano\\AppData\\Roaming\\nltk_data...\n",
      "[nltk_data]   Package wordnet is already up-to-date!\n",
      "[nltk_data] Downloading package punkt to\n",
      "[nltk_data]     C:\\Users\\Mariano\\AppData\\Roaming\\nltk_data...\n",
      "[nltk_data]   Package punkt is already up-to-date!\n",
      "[nltk_data] Downloading package stopwords to\n",
      "[nltk_data]     C:\\Users\\Mariano\\AppData\\Roaming\\nltk_data...\n",
      "[nltk_data]   Package stopwords is already up-to-date!\n",
      "[nltk_data] Downloading package vader_lexicon to\n",
      "[nltk_data]     C:\\Users\\Mariano\\AppData\\Roaming\\nltk_data...\n",
      "[nltk_data]   Package vader_lexicon is already up-to-date!\n"
     ]
    }
   ],
   "source": [
    "import itertools\n",
    "\n",
    "import numpy as np\n",
    "import pandas as pd\n",
    "import matplotlib.pyplot as plt\n",
    "import seaborn as sns\n",
    "sns.set()\n",
    "import nltk\n",
    "import pandas as pd\n",
    "import seaborn as sns\n",
    "from nltk.tokenize import word_tokenize\n",
    "from nltk.stem import PorterStemmer, WordNetLemmatizer\n",
    "from nltk.corpus import stopwords\n",
    "nltk.download('wordnet')\n",
    "nltk.download('punkt')\n",
    "nltk.download('stopwords')\n",
    "import warnings\n",
    "warnings.filterwarnings('ignore')\n",
    "stemmer = PorterStemmer()\n",
    "# Importamos esta libreria que nos permite reemplzar caracteres\n",
    "import re\n",
    "\n",
    "# Importamos la función que nos permite Stemmizar de nltk y definimos el stemmer\n",
    "lemmatizer = WordNetLemmatizer()\n",
    "# Guardamos las stopwords en español en una variable\n",
    "stopwords = nltk.corpus.stopwords.words('spanish')\n",
    "stop_words = stopwords\n",
    "from nltk.sentiment.vader import SentimentIntensityAnalyzer\n",
    "nltk.download(\"vader_lexicon\")\n",
    "sia = SentimentIntensityAnalyzer()"
   ]
  },
  {
   "cell_type": "code",
   "execution_count": 3,
   "metadata": {
    "id": "x1GFwraSISFB"
   },
   "outputs": [],
   "source": [
    "import pandas as pd\n",
    "dev=pd.read_json(r'C:\\Users\\Mariano\\Desktop\\Acamica\\TP3\\NLP\\dataset_es_dev.json', lines=True)\n",
    "test=pd.read_json(r'C:\\Users\\Mariano\\Desktop\\Acamica\\TP3\\NLP\\dataset_es_test.json', lines=True)\n",
    "train=pd.read_json(r'C:\\Users\\Mariano\\Desktop\\Acamica\\TP3\\NLP\\dataset_es_train.json', lines=True)"
   ]
  },
  {
   "cell_type": "code",
   "execution_count": 4,
   "metadata": {},
   "outputs": [],
   "source": [
    "data = pd.concat([dev,test,train], axis=0)"
   ]
  },
  {
   "cell_type": "code",
   "execution_count": 5,
   "metadata": {},
   "outputs": [],
   "source": [
    "# Veamos si coincide la estructura de los JSON"
   ]
  },
  {
   "cell_type": "code",
   "execution_count": 6,
   "metadata": {},
   "outputs": [
    {
     "data": {
      "text/html": [
       "<div>\n",
       "<style scoped>\n",
       "    .dataframe tbody tr th:only-of-type {\n",
       "        vertical-align: middle;\n",
       "    }\n",
       "\n",
       "    .dataframe tbody tr th {\n",
       "        vertical-align: top;\n",
       "    }\n",
       "\n",
       "    .dataframe thead th {\n",
       "        text-align: right;\n",
       "    }\n",
       "</style>\n",
       "<table border=\"1\" class=\"dataframe\">\n",
       "  <thead>\n",
       "    <tr style=\"text-align: right;\">\n",
       "      <th></th>\n",
       "      <th>review_id</th>\n",
       "      <th>product_id</th>\n",
       "      <th>reviewer_id</th>\n",
       "      <th>stars</th>\n",
       "      <th>review_body</th>\n",
       "      <th>review_title</th>\n",
       "      <th>language</th>\n",
       "      <th>product_category</th>\n",
       "    </tr>\n",
       "  </thead>\n",
       "  <tbody>\n",
       "    <tr>\n",
       "      <th>0</th>\n",
       "      <td>es_0417480</td>\n",
       "      <td>product_es_0873923</td>\n",
       "      <td>reviewer_es_0672978</td>\n",
       "      <td>1</td>\n",
       "      <td>Malisimo, muy grande demasiado aparatoso y mal...</td>\n",
       "      <td>Mala compra</td>\n",
       "      <td>es</td>\n",
       "      <td>wireless</td>\n",
       "    </tr>\n",
       "  </tbody>\n",
       "</table>\n",
       "</div>"
      ],
      "text/plain": [
       "    review_id          product_id          reviewer_id  stars  \\\n",
       "0  es_0417480  product_es_0873923  reviewer_es_0672978      1   \n",
       "\n",
       "                                         review_body review_title language  \\\n",
       "0  Malisimo, muy grande demasiado aparatoso y mal...  Mala compra       es   \n",
       "\n",
       "  product_category  \n",
       "0         wireless  "
      ]
     },
     "execution_count": 6,
     "metadata": {},
     "output_type": "execute_result"
    }
   ],
   "source": [
    "data.head(1)"
   ]
  },
  {
   "cell_type": "markdown",
   "metadata": {},
   "source": [
    "### Veamos una aproximación inicial a cantidad de registros, desviación standard, valores mínimos y máximos y distribución:"
   ]
  },
  {
   "cell_type": "code",
   "execution_count": 7,
   "metadata": {},
   "outputs": [
    {
     "data": {
      "text/plain": [
       "<bound method NDFrame.describe of          review_id          product_id          reviewer_id  stars  \\\n",
       "0       es_0417480  product_es_0873923  reviewer_es_0672978      1   \n",
       "1       es_0180432  product_es_0713146  reviewer_es_0100858      1   \n",
       "2       es_0144850  product_es_0356874  reviewer_es_0486447      1   \n",
       "3       es_0339629  product_es_0939832  reviewer_es_0894703      1   \n",
       "4       es_0858362  product_es_0489066  reviewer_es_0887663      1   \n",
       "...            ...                 ...                  ...    ...   \n",
       "199995  es_0715276  product_es_0317036  reviewer_es_0643604      5   \n",
       "199996  es_0085190  product_es_0622919  reviewer_es_0466173      5   \n",
       "199997  es_0484496  product_es_0358101  reviewer_es_0330744      5   \n",
       "199998  es_0930141  product_es_0788855  reviewer_es_0694290      5   \n",
       "199999  es_0859809  product_es_0378794  reviewer_es_0141717      5   \n",
       "\n",
       "                                              review_body  \\\n",
       "0       Malisimo, muy grande demasiado aparatoso y mal...   \n",
       "1               No he recibido el pedido no la devolución   \n",
       "2       Tengo que buscar otro sistema, este no funcion...   \n",
       "3       Utilicé las brocas de menor diámetro y se me d...   \n",
       "4              No me gusta su olor a viejo y aspecto malo   \n",
       "...                                                   ...   \n",
       "199995  Mando funciona perfectamente y cumple con toda...   \n",
       "199996  Compré la batería con cierta reticencia, pero ...   \n",
       "199997           Buena calidad. Satisfecha con la compra.   \n",
       "199998                 Perfecto para el cumple de mi hijo   \n",
       "199999  Súper bien! Las brochas son buenas, no sé meno...   \n",
       "\n",
       "                              review_title language  product_category  \n",
       "0                              Mala compra       es          wireless  \n",
       "1                        No lo he recibido       es           apparel  \n",
       "2       Que no aprieta bien en el manillar       es            sports  \n",
       "3                    Brocas de mantequilla       es  home_improvement  \n",
       "4                              No me gusta       es            beauty  \n",
       "...                                    ...      ...               ...  \n",
       "199995              Tal y como se describe       es       electronics  \n",
       "199996              Funciona perfectamente       es       electronics  \n",
       "199997                      Buena calidad.       es           apparel  \n",
       "199998                         Recomendado       es               toy  \n",
       "199999                           Preciosas       es              home  \n",
       "\n",
       "[210000 rows x 8 columns]>"
      ]
     },
     "execution_count": 7,
     "metadata": {},
     "output_type": "execute_result"
    }
   ],
   "source": [
    "data.describe"
   ]
  },
  {
   "cell_type": "code",
   "execution_count": 8,
   "metadata": {},
   "outputs": [
    {
     "data": {
      "text/plain": [
       "(35932, 8)"
      ]
     },
     "execution_count": 8,
     "metadata": {},
     "output_type": "execute_result"
    }
   ],
   "source": [
    "#Sacamos una muestra aleatoria. En muestra se debe poner el porcentaje a considerar.\n",
    "#Dada la cantidad de registros estadísticamente la muestra nos dá métricas confiables por arriba del 10% \n",
    "muestra=15\n",
    "experiment_size = int(len(data.index)*muestra/100)\n",
    "completerandom_idx = data.sample(int(experiment_size),random_state = 42).index\n",
    "data = data.loc[completerandom_idx,:]\n",
    "data.shape"
   ]
  },
  {
   "cell_type": "markdown",
   "metadata": {},
   "source": [
    "### Conclusiones preliminares:\n",
    "Las columnas review_id, product_id, reviewer_id : tienen concatenado texto a un valor numérico.Hay que quitarle el texto"
   ]
  },
  {
   "cell_type": "code",
   "execution_count": 9,
   "metadata": {},
   "outputs": [],
   "source": [
    "data['review_id'] = data['review_id'].map(lambda x: x.lstrip('es_'))\n",
    "data['product_id'] = data['product_id'].map(lambda x: x.lstrip('product_es_'))\n",
    "data['reviewer_id'] = data['reviewer_id'].map(lambda x: x.lstrip('reviewer_es_'))"
   ]
  },
  {
   "cell_type": "markdown",
   "metadata": {},
   "source": [
    "# Creacion de características:\n",
    "1. Vamos a crear el promedio de calificacion para cada categoría de producto.<br>\n",
    "2. Vamos a unir el título y la reseña en un campo \"cuerpo\".<br>"
   ]
  },
  {
   "cell_type": "code",
   "execution_count": 10,
   "metadata": {},
   "outputs": [],
   "source": [
    "data['promprod'] = data.groupby(['product_category'])['stars'].transform('mean')\n",
    "data['cuerpo'] = data[['review_title', 'review_body']].apply(' . '.join, axis=1)"
   ]
  },
  {
   "cell_type": "code",
   "execution_count": 11,
   "metadata": {},
   "outputs": [
    {
     "data": {
      "text/html": [
       "<div>\n",
       "<style scoped>\n",
       "    .dataframe tbody tr th:only-of-type {\n",
       "        vertical-align: middle;\n",
       "    }\n",
       "\n",
       "    .dataframe tbody tr th {\n",
       "        vertical-align: top;\n",
       "    }\n",
       "\n",
       "    .dataframe thead th {\n",
       "        text-align: right;\n",
       "    }\n",
       "</style>\n",
       "<table border=\"1\" class=\"dataframe\">\n",
       "  <thead>\n",
       "    <tr style=\"text-align: right;\">\n",
       "      <th></th>\n",
       "      <th>review_id</th>\n",
       "      <th>product_id</th>\n",
       "      <th>reviewer_id</th>\n",
       "      <th>stars</th>\n",
       "      <th>review_body</th>\n",
       "      <th>review_title</th>\n",
       "      <th>language</th>\n",
       "      <th>product_category</th>\n",
       "      <th>promprod</th>\n",
       "      <th>cuerpo</th>\n",
       "    </tr>\n",
       "  </thead>\n",
       "  <tbody>\n",
       "    <tr>\n",
       "      <th>184949</th>\n",
       "      <td>0551312</td>\n",
       "      <td>0105367</td>\n",
       "      <td>0461939</td>\n",
       "      <td>5</td>\n",
       "      <td>Sabor y textura idéales! Me ha encantado! Ante...</td>\n",
       "      <td>Saludable y delicioso</td>\n",
       "      <td>es</td>\n",
       "      <td>grocery</td>\n",
       "      <td>3.010753</td>\n",
       "      <td>Saludable y delicioso . Sabor y textura idéale...</td>\n",
       "    </tr>\n",
       "    <tr>\n",
       "      <th>151875</th>\n",
       "      <td>0332711</td>\n",
       "      <td>0776227</td>\n",
       "      <td>0439865</td>\n",
       "      <td>4</td>\n",
       "      <td>La funda cumple su finalidad, y apaga la panta...</td>\n",
       "      <td>Cumple.</td>\n",
       "      <td>es</td>\n",
       "      <td>other</td>\n",
       "      <td>2.990113</td>\n",
       "      <td>Cumple. . La funda cumple su finalidad, y apag...</td>\n",
       "    </tr>\n",
       "  </tbody>\n",
       "</table>\n",
       "</div>"
      ],
      "text/plain": [
       "       review_id product_id reviewer_id  stars  \\\n",
       "184949   0551312    0105367     0461939      5   \n",
       "151875   0332711    0776227     0439865      4   \n",
       "\n",
       "                                              review_body  \\\n",
       "184949  Sabor y textura idéales! Me ha encantado! Ante...   \n",
       "151875  La funda cumple su finalidad, y apaga la panta...   \n",
       "\n",
       "                 review_title language product_category  promprod  \\\n",
       "184949  Saludable y delicioso       es          grocery  3.010753   \n",
       "151875                Cumple.       es            other  2.990113   \n",
       "\n",
       "                                                   cuerpo  \n",
       "184949  Saludable y delicioso . Sabor y textura idéale...  \n",
       "151875  Cumple. . La funda cumple su finalidad, y apag...  "
      ]
     },
     "execution_count": 11,
     "metadata": {},
     "output_type": "execute_result"
    }
   ],
   "source": [
    "data.head(2)"
   ]
  },
  {
   "cell_type": "code",
   "execution_count": 12,
   "metadata": {},
   "outputs": [
    {
     "data": {
      "image/png": "[encoded data removed]",
      "text/plain": [
       "<Figure size 432x216 with 2 Axes>"
      ]
     },
     "metadata": {},
     "output_type": "display_data"
    }
   ],
   "source": [
    "# Credits to Dominik Gawlik in Kaggle: https://www.kaggle.com/dgawlik/house-prices-eda\n",
    "features = [f for f in data.columns if data.dtypes[f] != 'object']\n",
    "melt = pd.melt(data, value_vars = features)\n",
    "facetgrid = sns.FacetGrid(melt, col = \"variable\",  col_wrap = 2, sharex = False, sharey = False)\n",
    "distribucion = facetgrid.map(sns.distplot, \"value\")"
   ]
  },
  {
   "cell_type": "code",
   "execution_count": 13,
   "metadata": {},
   "outputs": [],
   "source": [
    "# verificamos que no hay más de un lenguage :"
   ]
  },
  {
   "cell_type": "code",
   "execution_count": 14,
   "metadata": {},
   "outputs": [
    {
     "data": {
      "text/plain": [
       "language\n",
       "es    35932\n",
       "dtype: int64"
      ]
     },
     "execution_count": 14,
     "metadata": {},
     "output_type": "execute_result"
    }
   ],
   "source": [
    "data.groupby('language').size()"
   ]
  },
  {
   "cell_type": "code",
   "execution_count": 15,
   "metadata": {},
   "outputs": [
    {
     "data": {
      "text/plain": [
       "reviewer_id\n",
       "0379892    4\n",
       "0207911    4\n",
       "0485390    4\n",
       "0582207    3\n",
       "0899425    3\n",
       "          ..\n",
       "0656818    1\n",
       "0656847    1\n",
       "0656870    1\n",
       "0656882    1\n",
       "0000014    1\n",
       "Length: 34181, dtype: int64"
      ]
     },
     "execution_count": 15,
     "metadata": {},
     "output_type": "execute_result"
    }
   ],
   "source": [
    "#Verificamos que no haya usuarios con demasiadas calificaciones\n",
    "data.groupby('reviewer_id').size().sort_values(ascending=False)"
   ]
  },
  {
   "cell_type": "code",
   "execution_count": 16,
   "metadata": {},
   "outputs": [
    {
     "data": {
      "text/plain": [
       "product_id\n",
       "0400389    4\n",
       "0888698    4\n",
       "0482561    4\n",
       "0795520    4\n",
       "0349962    4\n",
       "          ..\n",
       "0655079    1\n",
       "0655094    1\n",
       "0655098    1\n",
       "0655113    1\n",
       "0000014    1\n",
       "Length: 33111, dtype: int64"
      ]
     },
     "execution_count": 16,
     "metadata": {},
     "output_type": "execute_result"
    }
   ],
   "source": [
    "#Verificamos que no haya productos con demasiadas calificaciones\n",
    "data.groupby('product_id').size().sort_values(ascending=False)"
   ]
  },
  {
   "cell_type": "code",
   "execution_count": 17,
   "metadata": {},
   "outputs": [],
   "source": [
    "# Verificamos valores faltantes"
   ]
  },
  {
   "cell_type": "code",
   "execution_count": 18,
   "metadata": {},
   "outputs": [
    {
     "name": "stdout",
     "output_type": "stream",
     "text": [
      "\n",
      "Valores faltantes\n",
      "\n",
      "review_id           0\n",
      "product_id          0\n",
      "reviewer_id         0\n",
      "stars               0\n",
      "review_body         0\n",
      "review_title        0\n",
      "language            0\n",
      "product_category    0\n",
      "promprod            0\n",
      "cuerpo              0\n",
      "dtype: int64\n"
     ]
    }
   ],
   "source": [
    "print(\"\\nValores faltantes\\n\" )\n",
    "print (data.isnull().sum())"
   ]
  },
  {
   "cell_type": "markdown",
   "metadata": {},
   "source": [
    "### Veamos si están balanceada nuestra variable de respuesta (stars) ..."
   ]
  },
  {
   "cell_type": "code",
   "execution_count": 19,
   "metadata": {},
   "outputs": [
    {
     "data": {
      "image/png": "[encoded data removed]",
      "text/plain": [
       "<Figure size 432x288 with 1 Axes>"
      ]
     },
     "metadata": {},
     "output_type": "display_data"
    }
   ],
   "source": [
    "sns.countplot(data.stars, palette=\"Dark2\")\n",
    "plt.show()"
   ]
  },
  {
   "cell_type": "markdown",
   "metadata": {},
   "source": [
    "La variable de respuesta se encuentra balanceada."
   ]
  },
  {
   "cell_type": "code",
   "execution_count": 20,
   "metadata": {},
   "outputs": [
    {
     "data": {
      "image/png": "[encoded data removed]",
      "text/plain": [
       "<Figure size 2016x864 with 1 Axes>"
      ]
     },
     "metadata": {},
     "output_type": "display_data"
    }
   ],
   "source": [
    "# vemos las calificaciones por tipo de prodcto\n",
    "plt.figure(figsize=(28,12),facecolor='white',edgecolor='white')    # Cambio el tamaño para que sea legible\n",
    "sns.set(context='notebook',font='sans-serif',font_scale=1.2)\n",
    "ax = sns.countplot(x=\"product_category\", hue= \"stars\", data=data,saturation=0.95,linewidth=1, order = data['product_category'].value_counts().index ,dodge = True)\n",
    "plt.title('CALIFICACIONES POR TIPO DE PRODUCTO',fontdict = {'fontsize': 32,'fontweight' :3, 'verticalalignment': 'baseline'})\n",
    "plt.ylabel('Cantidad ', fontsize=20)\n",
    "plt.xticks(rotation=90 , ha='right', fontsize=20)\n",
    "plt.legend(loc='upper right' ,title = 'Calificaciones por tipo producto', bbox_to_anchor=(1, 1), fontsize=20)\n",
    "#plt.grid(color='r', linestyle='-', linewidth=0.5)\n",
    "plt.show()"
   ]
  },
  {
   "cell_type": "markdown",
   "metadata": {},
   "source": [
    "Como se puede apreciar, las calificaciones estan bien distribuidas. No hay categorías que esten significativamente desbalanceadas (solo un poco HOME y WIRELESS).\n",
    "Nota de color: Las categorías \"apariencia\" y \"libros\" estan en espejo, es decir: 12345 - 54321 , como si culturalmente fueran personalidades opuestas."
   ]
  },
  {
   "cell_type": "code",
   "execution_count": 21,
   "metadata": {},
   "outputs": [
    {
     "data": {
      "text/html": [
       "<div>\n",
       "<style scoped>\n",
       "    .dataframe tbody tr th:only-of-type {\n",
       "        vertical-align: middle;\n",
       "    }\n",
       "\n",
       "    .dataframe tbody tr th {\n",
       "        vertical-align: top;\n",
       "    }\n",
       "\n",
       "    .dataframe thead th {\n",
       "        text-align: right;\n",
       "    }\n",
       "</style>\n",
       "<table border=\"1\" class=\"dataframe\">\n",
       "  <thead>\n",
       "    <tr style=\"text-align: right;\">\n",
       "      <th></th>\n",
       "      <th>review_id</th>\n",
       "      <th>product_id</th>\n",
       "      <th>reviewer_id</th>\n",
       "      <th>stars</th>\n",
       "      <th>review_body</th>\n",
       "      <th>review_title</th>\n",
       "      <th>language</th>\n",
       "      <th>product_category</th>\n",
       "      <th>promprod</th>\n",
       "      <th>cuerpo</th>\n",
       "      <th>largo</th>\n",
       "    </tr>\n",
       "  </thead>\n",
       "  <tbody>\n",
       "    <tr>\n",
       "      <th>184949</th>\n",
       "      <td>0551312</td>\n",
       "      <td>0105367</td>\n",
       "      <td>0461939</td>\n",
       "      <td>5</td>\n",
       "      <td>Sabor y textura idéales! Me ha encantado! Ante...</td>\n",
       "      <td>Saludable y delicioso</td>\n",
       "      <td>es</td>\n",
       "      <td>grocery</td>\n",
       "      <td>3.010753</td>\n",
       "      <td>Saludable y delicioso . Sabor y textura idéale...</td>\n",
       "      <td>167</td>\n",
       "    </tr>\n",
       "  </tbody>\n",
       "</table>\n",
       "</div>"
      ],
      "text/plain": [
       "       review_id product_id reviewer_id  stars  \\\n",
       "184949   0551312    0105367     0461939      5   \n",
       "\n",
       "                                              review_body  \\\n",
       "184949  Sabor y textura idéales! Me ha encantado! Ante...   \n",
       "\n",
       "                 review_title language product_category  promprod  \\\n",
       "184949  Saludable y delicioso       es          grocery  3.010753   \n",
       "\n",
       "                                                   cuerpo  largo  \n",
       "184949  Saludable y delicioso . Sabor y textura idéale...    167  "
      ]
     },
     "execution_count": 21,
     "metadata": {},
     "output_type": "execute_result"
    }
   ],
   "source": [
    "# Veamos si la longitud del texto incide en la calificación otorgada:\n",
    "data['largo'] = data['cuerpo'].apply(len)\n",
    "data.head(1)\n"
   ]
  },
  {
   "cell_type": "markdown",
   "metadata": {},
   "source": [
    "### Incidirá la longitud de la reseña en la calificación ? "
   ]
  },
  {
   "cell_type": "code",
   "execution_count": 22,
   "metadata": {},
   "outputs": [
    {
     "data": {
      "text/plain": [
       "<seaborn.axisgrid.FacetGrid at 0x23adb33d5b0>"
      ]
     },
     "execution_count": 22,
     "metadata": {},
     "output_type": "execute_result"
    },
    {
     "data": {
      "image/png": "[encoded data removed]",
      "text/plain": [
       "<Figure size 1080x216 with 5 Axes>"
      ]
     },
     "metadata": {},
     "output_type": "display_data"
    }
   ],
   "source": [
    "plt.style.use(['ggplot']) \n",
    "g = sns.FacetGrid(data,col='stars')\n",
    "g.map(plt.hist,'largo')"
   ]
  },
  {
   "cell_type": "markdown",
   "metadata": {},
   "source": [
    "# Algunas conclusiones...\n",
    "Las bases estan balanceadas.<BR> \n",
    "No hay usuarios ni productos con cantidades exageradas de calificaciones que ameriten alguna corrección.<BR>\n",
    "En general el largo de la reseña no guarda relación con la calificación.<BR>\n"
   ]
  },
  {
   "cell_type": "code",
   "execution_count": 23,
   "metadata": {},
   "outputs": [],
   "source": [
    "# Vamos a eliminar algunas columnas:\n",
    "data.drop(['review_id','product_id','reviewer_id','review_body','review_title','language','largo'], axis = 'columns', inplace=True)"
   ]
  },
  {
   "cell_type": "code",
   "execution_count": 24,
   "metadata": {},
   "outputs": [
    {
     "data": {
      "text/html": [
       "<div>\n",
       "<style scoped>\n",
       "    .dataframe tbody tr th:only-of-type {\n",
       "        vertical-align: middle;\n",
       "    }\n",
       "\n",
       "    .dataframe tbody tr th {\n",
       "        vertical-align: top;\n",
       "    }\n",
       "\n",
       "    .dataframe thead th {\n",
       "        text-align: right;\n",
       "    }\n",
       "</style>\n",
       "<table border=\"1\" class=\"dataframe\">\n",
       "  <thead>\n",
       "    <tr style=\"text-align: right;\">\n",
       "      <th></th>\n",
       "      <th>stars</th>\n",
       "      <th>product_category</th>\n",
       "      <th>promprod</th>\n",
       "      <th>cuerpo</th>\n",
       "    </tr>\n",
       "  </thead>\n",
       "  <tbody>\n",
       "    <tr>\n",
       "      <th>184949</th>\n",
       "      <td>5</td>\n",
       "      <td>grocery</td>\n",
       "      <td>3.010753</td>\n",
       "      <td>Saludable y delicioso . Sabor y textura idéale...</td>\n",
       "    </tr>\n",
       "  </tbody>\n",
       "</table>\n",
       "</div>"
      ],
      "text/plain": [
       "        stars product_category  promprod  \\\n",
       "184949      5          grocery  3.010753   \n",
       "\n",
       "                                                   cuerpo  \n",
       "184949  Saludable y delicioso . Sabor y textura idéale...  "
      ]
     },
     "execution_count": 24,
     "metadata": {},
     "output_type": "execute_result"
    }
   ],
   "source": [
    "data.head(1)"
   ]
  },
  {
   "cell_type": "markdown",
   "metadata": {},
   "source": [
    "### Vamos a utilizar la función polarity_scores de NLTK VADER\n",
    "La misma asigna un valor negativo, positivo, neutro y un consolidado para un texto para ver si logramos una correlación entre algunos de estos valores y las calificaciones otorgadas:"
   ]
  },
  {
   "cell_type": "code",
   "execution_count": 25,
   "metadata": {},
   "outputs": [],
   "source": [
    "data[\"neg\"] = data[\"cuerpo\"].apply(lambda x:sia.polarity_scores(x)[\"neg\"])\n",
    "data[\"pos\"] = data[\"cuerpo\"].apply(lambda x:sia.polarity_scores(x)[\"pos\"])\n",
    "data[\"neu\"] = data[\"cuerpo\"].apply(lambda x:sia.polarity_scores(x)[\"neu\"])\n",
    "data[\"compuesto\"] = data[\"cuerpo\"].apply(lambda x:sia.polarity_scores(x)[\"compound\"])"
   ]
  },
  {
   "cell_type": "code",
   "execution_count": 26,
   "metadata": {},
   "outputs": [
    {
     "data": {
      "text/html": [
       "<div>\n",
       "<style scoped>\n",
       "    .dataframe tbody tr th:only-of-type {\n",
       "        vertical-align: middle;\n",
       "    }\n",
       "\n",
       "    .dataframe tbody tr th {\n",
       "        vertical-align: top;\n",
       "    }\n",
       "\n",
       "    .dataframe thead th {\n",
       "        text-align: right;\n",
       "    }\n",
       "</style>\n",
       "<table border=\"1\" class=\"dataframe\">\n",
       "  <thead>\n",
       "    <tr style=\"text-align: right;\">\n",
       "      <th></th>\n",
       "      <th>stars</th>\n",
       "      <th>product_category</th>\n",
       "      <th>promprod</th>\n",
       "      <th>cuerpo</th>\n",
       "      <th>neg</th>\n",
       "      <th>pos</th>\n",
       "      <th>neu</th>\n",
       "      <th>compuesto</th>\n",
       "    </tr>\n",
       "  </thead>\n",
       "  <tbody>\n",
       "    <tr>\n",
       "      <th>184949</th>\n",
       "      <td>5</td>\n",
       "      <td>grocery</td>\n",
       "      <td>3.010753</td>\n",
       "      <td>Saludable y delicioso . Sabor y textura idéale...</td>\n",
       "      <td>0.141</td>\n",
       "      <td>0.081</td>\n",
       "      <td>0.777</td>\n",
       "      <td>-0.4184</td>\n",
       "    </tr>\n",
       "    <tr>\n",
       "      <th>151875</th>\n",
       "      <td>4</td>\n",
       "      <td>other</td>\n",
       "      <td>2.990113</td>\n",
       "      <td>Cumple. . La funda cumple su finalidad, y apag...</td>\n",
       "      <td>0.078</td>\n",
       "      <td>0.000</td>\n",
       "      <td>0.922</td>\n",
       "      <td>-0.2960</td>\n",
       "    </tr>\n",
       "    <tr>\n",
       "      <th>51912</th>\n",
       "      <td>2</td>\n",
       "      <td>other</td>\n",
       "      <td>2.990113</td>\n",
       "      <td>Apenas mejora la calidad del sonido . La he ca...</td>\n",
       "      <td>0.056</td>\n",
       "      <td>0.000</td>\n",
       "      <td>0.944</td>\n",
       "      <td>-0.5267</td>\n",
       "    </tr>\n",
       "    <tr>\n",
       "      <th>25966</th>\n",
       "      <td>1</td>\n",
       "      <td>toy</td>\n",
       "      <td>2.959902</td>\n",
       "      <td>Llegó rapido . Me imaginé otra cosa .más parec...</td>\n",
       "      <td>0.000</td>\n",
       "      <td>0.000</td>\n",
       "      <td>1.000</td>\n",
       "      <td>0.0000</td>\n",
       "    </tr>\n",
       "    <tr>\n",
       "      <th>133596</th>\n",
       "      <td>4</td>\n",
       "      <td>home_improvement</td>\n",
       "      <td>2.906381</td>\n",
       "      <td>Cajita de herramientas. . Sí lo que se quiere ...</td>\n",
       "      <td>0.000</td>\n",
       "      <td>0.000</td>\n",
       "      <td>1.000</td>\n",
       "      <td>0.0000</td>\n",
       "    </tr>\n",
       "  </tbody>\n",
       "</table>\n",
       "</div>"
      ],
      "text/plain": [
       "        stars  product_category  promprod  \\\n",
       "184949      5           grocery  3.010753   \n",
       "151875      4             other  2.990113   \n",
       "51912       2             other  2.990113   \n",
       "25966       1               toy  2.959902   \n",
       "133596      4  home_improvement  2.906381   \n",
       "\n",
       "                                                   cuerpo    neg    pos  \\\n",
       "184949  Saludable y delicioso . Sabor y textura idéale...  0.141  0.081   \n",
       "151875  Cumple. . La funda cumple su finalidad, y apag...  0.078  0.000   \n",
       "51912   Apenas mejora la calidad del sonido . La he ca...  0.056  0.000   \n",
       "25966   Llegó rapido . Me imaginé otra cosa .más parec...  0.000  0.000   \n",
       "133596  Cajita de herramientas. . Sí lo que se quiere ...  0.000  0.000   \n",
       "\n",
       "          neu  compuesto  \n",
       "184949  0.777    -0.4184  \n",
       "151875  0.922    -0.2960  \n",
       "51912   0.944    -0.5267  \n",
       "25966   1.000     0.0000  \n",
       "133596  1.000     0.0000  "
      ]
     },
     "execution_count": 26,
     "metadata": {},
     "output_type": "execute_result"
    }
   ],
   "source": [
    "data.head()"
   ]
  },
  {
   "cell_type": "markdown",
   "metadata": {},
   "source": [
    "# Habrá alguna alternativa mejor en español ? \n",
    "Instalamos \"sentiment-analysis-spanish\" una librería prometedora pre entrenada con redes neuronales que logró en ejercicios y competencias valores cercanos al 90 % de exactitud.<BR>\n",
    "Luego creamos la columna sentimiento donde La libreria \"sentiment-analysis-spanish\" nos dará un valor entre 0 y 1."
   ]
  },
  {
   "cell_type": "code",
   "execution_count": 27,
   "metadata": {},
   "outputs": [],
   "source": [
    "#Analizamos la libreria que analiza sentimientos en español:\n",
    "from sentiment_analysis_spanish import sentiment_analysis"
   ]
  },
  {
   "cell_type": "code",
   "execution_count": null,
   "metadata": {},
   "outputs": [],
   "source": [
    "%%time\n",
    "sentiment = sentiment_analysis.SentimentAnalysisSpanish()\n",
    "#print(sentiment.sentiment(\"excelente el partido de anoche\"))\n",
    "data[\"sentimiento\"] = data[\"cuerpo\"].apply(lambda x:sentiment.sentiment(x))"
   ]
  },
  {
   "cell_type": "code",
   "execution_count": null,
   "metadata": {},
   "outputs": [],
   "source": [
    "data.head()"
   ]
  },
  {
   "cell_type": "markdown",
   "metadata": {},
   "source": [
    "### Preprocesamiento ...\n",
    "Guardamos \"product_category\" y transformamos la categoría en columnas con get_dummies()<BR>\n",
    "Esta transformación nos permitirá incorporar la variable categórica a nuestro modelo."
   ]
  },
  {
   "cell_type": "code",
   "execution_count": null,
   "metadata": {},
   "outputs": [],
   "source": [
    "data['producto'] = data['product_category']\n",
    "# Aplicamos get_dummies:\n",
    "data = pd.get_dummies (data, columns = ['product_category'])"
   ]
  },
  {
   "cell_type": "markdown",
   "metadata": {},
   "source": [
    "### Guardamos en CSV para optimizar tiempo de acá en más\n",
    "Las funciones que analizan y asignan un valor de \"sentimiento\" tardaron mucho tiempo, por lo que realizaremos una bajada a csv para levantarlo posteriormente si fuera necesario sin correr estas funciones nuevamente."
   ]
  },
  {
   "cell_type": "code",
   "execution_count": null,
   "metadata": {},
   "outputs": [],
   "source": [
    "import itertools\n",
    "\n",
    "import numpy as np\n",
    "import pandas as pd\n",
    "import matplotlib.pyplot as plt\n",
    "import seaborn as sns\n",
    "sns.set()\n",
    "import nltk\n",
    "import pandas as pd\n",
    "import seaborn as sns\n",
    "from nltk.tokenize import word_tokenize\n",
    "from nltk.stem import PorterStemmer, WordNetLemmatizer\n",
    "from nltk.corpus import stopwords\n",
    "nltk.download('wordnet')\n",
    "nltk.download('punkt')\n",
    "nltk.download('stopwords')\n",
    "import warnings\n",
    "warnings.filterwarnings('ignore')\n",
    "stemmer = PorterStemmer()\n",
    "# Importamos esta libreria que nos permite reemplzar caracteres\n",
    "import re\n",
    "\n",
    "# Importamos la función que nos permite Stemmizar de nltk y definimos el stemmer\n",
    "lemmatizer = WordNetLemmatizer()\n",
    "# Guardamos las stopwords en español en una variable\n",
    "stopwords = nltk.corpus.stopwords.words('spanish')\n",
    "stop_words = stopwords\n",
    "from nltk.sentiment.vader import SentimentIntensityAnalyzer\n",
    "nltk.download(\"vader_lexicon\")\n",
    "sia = SentimentIntensityAnalyzer()"
   ]
  },
  {
   "cell_type": "code",
   "execution_count": null,
   "metadata": {},
   "outputs": [],
   "source": [
    "data= data.to_csv('tp3.csv',index=False)"
   ]
  },
  {
   "cell_type": "code",
   "execution_count": null,
   "metadata": {},
   "outputs": [],
   "source": [
    "data = pd.read_csv('tp3.csv')"
   ]
  },
  {
   "cell_type": "code",
   "execution_count": null,
   "metadata": {},
   "outputs": [],
   "source": [
    "data.head()"
   ]
  },
  {
   "cell_type": "code",
   "execution_count": null,
   "metadata": {},
   "outputs": [],
   "source": [
    "data['sentimiento'] = data['sentimiento'].astype(float)*5"
   ]
  },
  {
   "cell_type": "markdown",
   "metadata": {},
   "source": [
    "### Vamos a visualizar si existe alguna correlación entre \"sentiment_analysis\", \"compuesto\" de Vader y las calificaciones"
   ]
  },
  {
   "cell_type": "code",
   "execution_count": null,
   "metadata": {},
   "outputs": [],
   "source": [
    "import seaborn as sns\n",
    "sns.set_theme(style=\"darkgrid\")\n",
    "sns.scatterplot(data=data, x=\"sentimiento\", y=\"compuesto\", hue=\"compuesto\")"
   ]
  },
  {
   "cell_type": "code",
   "execution_count": null,
   "metadata": {},
   "outputs": [],
   "source": [
    "import seaborn as sns\n",
    "sns.set_theme(style=\"darkgrid\")\n",
    "sns.scatterplot(data=data, x=\"sentimiento\", y=\"stars\", hue=\"sentimiento\")"
   ]
  },
  {
   "cell_type": "markdown",
   "metadata": {},
   "source": [
    "Como se puede apreciar, hay relación entre sentimiento y calificaciones, no así con \"compound\" ya que para un mismo valor de \"compound\" hay valoraciones de 1 a 5 (probablemente funcinoe mejor con texto en inglés).<BR>\n",
    "Crearemos entonces una columna nueva multiplicando el valor de sentiment_analysis (0 a 1) para homologarlo con las calificaciones (rango 1-5).\n"
   ]
  },
  {
   "cell_type": "code",
   "execution_count": null,
   "metadata": {},
   "outputs": [],
   "source": [
    "data.tail(1)\n",
    "ingles=data"
   ]
  },
  {
   "cell_type": "markdown",
   "metadata": {},
   "source": [
    "# Preprocesamiento del texto\n",
    "Como ya sabemos nuestros algoritmos solo entienden números, por lo que debemos de alguna forma transpolar las características e incidencias de nuestras palabras, oraciones y calificaciones de manera numérica.<BR>\n",
    "Para esto, utilizaremos algunas funciones para quitar caracteres extraños, pasar todo a minúsculas, consolidar palabras por su raíz o lema, y finalmente armar vectores de palabras para poder medir su frecuencia.<BR>\n",
    "Con todo esto finalmente agregaremos columnas de las palabras con mayor frecuencia y utilizaremos algo similar al \"one hot encoding\" pero representando la frecuencia de cada una de ellas.\n"
   ]
  },
  {
   "cell_type": "code",
   "execution_count": null,
   "metadata": {},
   "outputs": [],
   "source": [
    "%%time\n",
    "# Vamos a limpiar el dataset y armamos dos listas, una con todos los reviews positivos y otro con los negativos:\n",
    "from nltk.stem import WordNetLemmatizer\n",
    "wordnet_lemmatizer = WordNetLemmatizer()\n",
    "from nltk.corpus import wordnet\n",
    "\n",
    "def get_wordnet_pos(word):\n",
    "    \"\"\"Map POS tag to first character lemmatize() accepts\"\"\"\n",
    "    tag = nltk.pos_tag([word])[0][1][0].upper()\n",
    "    tag_dict = {\"J\": wordnet.ADJ,\n",
    "                \"N\": wordnet.NOUN,\n",
    "                \"V\": wordnet.VERB,\n",
    "                \"R\": wordnet.ADV}\n",
    "\n",
    "    return tag_dict.get(tag, wordnet.NOUN)\n",
    "\n",
    "titular_list=[]\n",
    "for titular in data.cuerpo:\n",
    "    # Vamos a reemplzar los caracteres que no sean leras por espacios\n",
    "    titular=re.sub(\"[^a-zA-Z]\",\" \",str(titular))\n",
    "    # Pasamos todo a minúsculas\n",
    "    titular=titular.lower()\n",
    "    # Tokenizamos para separar las palabras\n",
    "    titular=nltk.word_tokenize(titular)\n",
    "    \n",
    "    # Aplicamos el Lemmatizer (Esto puede tardar un ratito)\n",
    "    titular = [wordnet_lemmatizer.lemmatize(w, get_wordnet_pos(w)) for w in titular]\n",
    "    #frase_lemma = [wordnet_lemmatizer.lemmatize(w, get_wordnet_pos(w)) for w in titular]\n",
    "    \n",
    "    # Eliminamos las palabras d emenos de 3 letras\n",
    "    titular = [palabra for palabra in titular if len(palabra)>3]\n",
    "    # Sacamos las Stopwords\n",
    "    titular = [palabra for palabra in titular if not palabra in stopwords]\n",
    "    \n",
    "    # Por ultimo volvemos a unir el titular\n",
    "    titular=\" \".join(titular)\n",
    "    #dataset[\"titular_normalizado\"] = titular_list\n",
    "    titular_list.append(titular)"
   ]
  },
  {
   "cell_type": "code",
   "execution_count": null,
   "metadata": {},
   "outputs": [],
   "source": [
    "data[\"cuerpo\"] = titular_list"
   ]
  },
  {
   "cell_type": "markdown",
   "metadata": {},
   "source": [
    "### Generemos una lista para luego vectorizar: "
   ]
  },
  {
   "cell_type": "code",
   "execution_count": null,
   "metadata": {},
   "outputs": [],
   "source": [
    "cuerpo = list(data['cuerpo'].values)\n",
    "stars = data['stars'].values"
   ]
  },
  {
   "cell_type": "code",
   "execution_count": null,
   "metadata": {},
   "outputs": [],
   "source": [
    "from sklearn.feature_extraction.text import CountVectorizer\n",
    "# Usaremos solo las 1000 palabras con mas frecuencia en todo el corpus para generar los vectores\n",
    "max_features=1000\n",
    "# Es decir que cada instancia tendrá max_features features\n",
    "cou_vec=CountVectorizer(max_features=max_features) # stop_words=\"english\" , ngram_range=(1, 2)\n",
    "matriz_cuerpo = cou_vec.fit_transform(titular_list)\n",
    "# Tomamos las palabras\n",
    "all_words = cou_vec.get_feature_names()"
   ]
  },
  {
   "cell_type": "code",
   "execution_count": null,
   "metadata": {},
   "outputs": [],
   "source": [
    "import re\n",
    "import string"
   ]
  },
  {
   "cell_type": "markdown",
   "metadata": {},
   "source": [
    "### Raices más utilizadas ordenadas por frecuencia:"
   ]
  },
  {
   "cell_type": "code",
   "execution_count": null,
   "metadata": {},
   "outputs": [],
   "source": [
    "frecuencias = re.sub(\"[^a-zA-Z]\",\" \",str(titular_list))\n",
    "words = frecuencias.split()\n",
    "table = str.maketrans('', '', string.punctuation)\n",
    "frecuencias = [w.translate(table) for w in words]\n",
    "frecuencias= nltk.FreqDist(frecuencias)\n",
    "#frecuencia de palabras del cuerpo de reseñas\n",
    "frecuencias = pd.DataFrame(frecuencias.items(),columns=['word','Frequency'])\n",
    "# ordenar por frecuencia\n",
    "frecuencias.sort_values('Frequency',inplace=True,ascending=False)\n",
    "frecuencias.head(10)\n"
   ]
  },
  {
   "cell_type": "markdown",
   "metadata": {},
   "source": [
    "Seguimos vectorizando"
   ]
  },
  {
   "cell_type": "code",
   "execution_count": null,
   "metadata": {},
   "outputs": [],
   "source": [
    "#visualización de mi vector\n",
    "vector=matriz_cuerpo.toarray()\n",
    "header=sorted(cou_vec.vocabulary_.keys())\n",
    "df_palabras = pd.DataFrame(vector,columns=header)"
   ]
  },
  {
   "cell_type": "code",
   "execution_count": null,
   "metadata": {},
   "outputs": [],
   "source": [
    "backup = data\n",
    "data = data.drop(columns=[\"cuerpo\",\"producto\",\"neg\",\"pos\",\"neu\",\"compuesto\"])#,\"tokens\",\"stemm\"])\n",
    "data.reset_index(inplace=True, drop=True)\n",
    "df_palabras.reset_index(inplace=True, drop=True)\n",
    "panda = pd.concat([data, df_palabras], axis=1)\n"
   ]
  },
  {
   "cell_type": "code",
   "execution_count": null,
   "metadata": {},
   "outputs": [],
   "source": [
    "x = panda.drop(columns=[\"stars\"])\n",
    "y = panda.stars\n",
    "from sklearn.model_selection import train_test_split\n",
    "xtrain, xtest, ytrain, ytest = train_test_split(x,y,test_size=0.3,random_state=42,stratify=y)"
   ]
  },
  {
   "cell_type": "code",
   "execution_count": null,
   "metadata": {},
   "outputs": [],
   "source": [
    "from sklearn.metrics import confusion_matrix\n",
    "import seaborn as sns\n",
    "\n",
    "def confusion(ytest,y_pred):\n",
    "    names=[\"1\",\"2\",\"3\",\"4\",\"5\"]\n",
    "    cm=confusion_matrix(ytest,y_pred)\n",
    "    f,ax=plt.subplots(figsize=(5,5))\n",
    "    sns.heatmap(cm,annot=True,linewidth=.5,linecolor=\"r\",fmt=\".0f\",ax=ax)\n",
    "    plt.xlabel(\"y_pred\")\n",
    "    plt.ylabel(\"y_true\")\n",
    "    ax.set_xticklabels(names)\n",
    "    ax.set_yticklabels(names)\n",
    "    plt.show()\n",
    "\n",
    "    return"
   ]
  },
  {
   "cell_type": "markdown",
   "metadata": {},
   "source": [
    "# Modelando\n",
    "### Benchmark: Veamos la exactitud con Naive Bayes\n",
    "Si bien el modelo benchmark más elemental es del 20% (surge de evaluar la probabilidad que tengo al azar de acertar una calificación 1/5) utilizaremos Naive Bayes como modelo base ya que esperamos que supere ese 20%"
   ]
  },
  {
   "cell_type": "code",
   "execution_count": null,
   "metadata": {},
   "outputs": [],
   "source": [
    "from sklearn.naive_bayes import GaussianNB\n",
    "nb = GaussianNB()\n",
    "nb.fit(xtrain,ytrain)\n",
    "print(\"acc : \", nb.score(xtest,ytest))"
   ]
  },
  {
   "cell_type": "code",
   "execution_count": null,
   "metadata": {},
   "outputs": [],
   "source": [
    "y_pred_nb=nb.predict(xtest)\n",
    "confusion(ytest,y_pred_nb)"
   ]
  },
  {
   "cell_type": "code",
   "execution_count": null,
   "metadata": {},
   "outputs": [],
   "source": [
    "from sklearn.metrics import confusion_matrix, classification_report\n",
    "report=pd.DataFrame(classification_report(ytest, y_pred_nb, output_dict=True)).transpose() #otra manera de hacer\n",
    "print(\"Reporte de Clasificación Naive Bayes:\")\n",
    "report"
   ]
  },
  {
   "cell_type": "markdown",
   "metadata": {},
   "source": [
    "Se visualiza una muy buena predicción en los polos (1 y 5) y va disminuyendo a medida que se acerca al centro."
   ]
  },
  {
   "cell_type": "markdown",
   "metadata": {},
   "source": [
    "### Ahora veamos con Random Forest: "
   ]
  },
  {
   "cell_type": "code",
   "execution_count": null,
   "metadata": {},
   "outputs": [],
   "source": [
    "from sklearn.ensemble import RandomForestClassifier\n",
    "from sklearn.metrics import confusion_matrix\n",
    "\n",
    "rf = RandomForestClassifier(n_estimators = 1032, random_state=42)\n",
    "rf.fit(xtrain,ytrain)\n",
    "print(\"acc: \",rf.score(xtest,ytest))"
   ]
  },
  {
   "cell_type": "code",
   "execution_count": null,
   "metadata": {},
   "outputs": [],
   "source": [
    "y_pred_rf=rf.predict(xtest)\n",
    "confusion(ytest,y_pred_rf)"
   ]
  },
  {
   "cell_type": "code",
   "execution_count": null,
   "metadata": {},
   "outputs": [],
   "source": [
    "from sklearn.metrics import confusion_matrix, classification_report\n",
    "report=pd.DataFrame(classification_report(ytest, y_pred_rf, output_dict=True)).transpose() #otra manera de hacer\n",
    "print(\"Reporte de Clasificación Random Forest:\")\n",
    "report"
   ]
  },
  {
   "cell_type": "markdown",
   "metadata": {},
   "source": [
    "### Utilizamos la función feature_importances_ de RF para ver que esta utilizando el modelo para predecir"
   ]
  },
  {
   "cell_type": "code",
   "execution_count": null,
   "metadata": {},
   "outputs": [],
   "source": [
    "# Le preguntamos la importancia de cada feature (cada palabra)\n",
    "importances = rf.feature_importances_\n",
    "# Tomamos la lista de palabras\n",
    "all_words = cou_vec.get_feature_names()\n",
    "columns = all_words\n",
    "\n",
    "# Ordenamos por importnacia y tomamos las 20 primeras\n",
    "indices = np.argsort(importances)[::-1]\n",
    "indices = indices[:20]\n",
    "selected_columns = [columns[i] for i in indices]\n",
    "selected_importances = importances[indices]\n",
    "\n",
    "# Por ultimo graficamos\n",
    "plt.figure(figsize = (15,8))\n",
    "sns.barplot(selected_columns, selected_importances)\n",
    "plt.show()"
   ]
  },
  {
   "cell_type": "markdown",
   "metadata": {},
   "source": [
    "### Veamos como se comporta un modelo de SVM pero con Linear SVC"
   ]
  },
  {
   "cell_type": "code",
   "execution_count": null,
   "metadata": {},
   "outputs": [],
   "source": [
    "# Notar que en vez de utilizar SVC, vamos a usar LinearSVC. \n",
    "# Para el Kernel Lineal, esta función es MUCHO mas rapida que la tradicional SVC.\n",
    "from sklearn.svm import LinearSVC\n",
    "\n",
    "svc = LinearSVC(C = 1)\n",
    "svc.fit(xtrain,ytrain)\n",
    "svc.score(xtest,ytest)"
   ]
  },
  {
   "cell_type": "code",
   "execution_count": null,
   "metadata": {},
   "outputs": [],
   "source": [
    "y_pred_svm=svc.predict(xtest)\n",
    "confusion(ytest,y_pred_svm)"
   ]
  },
  {
   "cell_type": "code",
   "execution_count": null,
   "metadata": {},
   "outputs": [],
   "source": [
    "from sklearn.metrics import confusion_matrix, classification_report\n",
    "report=pd.DataFrame(classification_report(ytest, y_pred_svm, output_dict=True)).transpose() #otra manera de hacer\n",
    "print(\"Reporte de Clasificación SVM con SVC:\")\n",
    "report"
   ]
  },
  {
   "cell_type": "markdown",
   "metadata": {},
   "source": [
    "# Optimizacion de modelos e hiperparámetros"
   ]
  },
  {
   "cell_type": "code",
   "execution_count": null,
   "metadata": {},
   "outputs": [],
   "source": [
    "from sklearn.linear_model import LinearRegression\n",
    "import xgboost as xgb\n",
    "from sklearn.ensemble import RandomForestRegressor\n",
    "from sklearn.model_selection import train_test_split\n",
    "from sklearn.metrics import mean_squared_error, mean_absolute_error\n",
    "from sklearn.model_selection import cross_val_score\n",
    "from sklearn.model_selection import RandomizedSearchCV"
   ]
  },
  {
   "cell_type": "code",
   "execution_count": null,
   "metadata": {},
   "outputs": [],
   "source": [
    "%%time\n",
    "# Number of trees in random forest\n",
    "#n_estimators = [int(x) for x in np.linspace(start = 200, stop = 1200, num = 10)]\n",
    "# Number of features to consider at every split\n",
    "#max_features = ['auto', 'sqrt']\n",
    "#max_depth = [int(x) for x in np.linspace(10, 50, num = 11)]\n",
    "#max_depth.append(None)\n",
    "#min_samples_split = [1, 2, 5,10]\n",
    "#min_samples_leaf = [1, 2,4,8]\n",
    "#bootstrap = [True, False]# Create the random grid\n",
    "#random_grid = {'n_estimators': n_estimators,\n",
    "#               'max_features': max_features,\n",
    "#               'max_depth': max_depth,\n",
    "#               'min_samples_split': min_samples_split,\n",
    "#               'min_samples_leaf': min_samples_leaf,\n",
    "#               'bootstrap': bootstrap}\n",
    "#rf = RandomForestRegressor()\n",
    "#rf_random = RandomizedSearchCV(estimator = rf, param_distributions = random_grid, n_iter = 150, cv = 5, verbose=2, random_state=21, n_jobs = -1)# Fit the random search model\n",
    "#rf_random.fit(xtrain, ytrain)"
   ]
  },
  {
   "cell_type": "code",
   "execution_count": null,
   "metadata": {},
   "outputs": [],
   "source": [
    "#mejores_parametros = rf_random.best_params_\n",
    "#mejores_parametros"
   ]
  },
  {
   "cell_type": "markdown",
   "metadata": {},
   "source": [
    "### Guardamos los mejores parámetros para no volver a correr RandomizedSearchCV"
   ]
  },
  {
   "cell_type": "code",
   "execution_count": null,
   "metadata": {},
   "outputs": [],
   "source": [
    "mejores_parametros = {\n",
    "    'n_estimators' : 200,\n",
    "    'min_samples_split' : 10,\n",
    "    'min_samples_leaf' : 1,\n",
    "    'max_features' : 'sqrt',\n",
    "    'max_depth' : 50,\n",
    "    'bootstrap' : 'False'\n",
    "}"
   ]
  },
  {
   "cell_type": "code",
   "execution_count": null,
   "metadata": {},
   "outputs": [],
   "source": [
    "%%time\n",
    "RFR = RandomForestRegressor(**mejores_parametros)\n",
    "RFR.fit(xtrain, ytrain)"
   ]
  },
  {
   "cell_type": "code",
   "execution_count": null,
   "metadata": {},
   "outputs": [],
   "source": [
    "%%time\n",
    "print(\"acc: \",RFR.score(xtrain,ytrain))"
   ]
  },
  {
   "cell_type": "code",
   "execution_count": null,
   "metadata": {},
   "outputs": [],
   "source": [
    "y_pred_rf=rf.predict(xtest)\n",
    "confusion(ytest,y_pred_rf)"
   ]
  },
  {
   "cell_type": "code",
   "execution_count": null,
   "metadata": {},
   "outputs": [],
   "source": [
    "from sklearn.metrics import confusion_matrix, classification_report\n",
    "report=pd.DataFrame(classification_report(ytest, y_pred_rf, output_dict=True)).transpose() #otra manera de hacer\n",
    "print(\"Reporte de Clasificación RF optimizando hiperparámetros:\")\n",
    "report"
   ]
  },
  {
   "cell_type": "markdown",
   "metadata": {},
   "source": [
    "### Limpiamos un poco el texto que nos quedo para medir frecuencias de palabras:"
   ]
  },
  {
   "cell_type": "markdown",
   "metadata": {},
   "source": [
    "# Veamos si existen diferencias entre las palabras más utilizadas en las calificaciones positivas y negativas:\n",
    "Para esto arbitrariamente decidí tomar 1 y 2 como calificaciones negativas , 4 y 5 como positivas y 3 como neutra por lo que queda fuera del análisis."
   ]
  },
  {
   "cell_type": "code",
   "execution_count": null,
   "metadata": {},
   "outputs": [],
   "source": [
    "backup = backup.filter(['stars','cuerpo','sentimiento'], axis=1)\n",
    "df_positivas = backup[backup.stars>=4]\n",
    "df_negativas = backup[backup.stars<=2]"
   ]
  },
  {
   "cell_type": "markdown",
   "metadata": {},
   "source": [
    "Confirmemos que el slice y subset hayan funcionado para ambos datasets:"
   ]
  },
  {
   "cell_type": "code",
   "execution_count": null,
   "metadata": {},
   "outputs": [],
   "source": [
    "df_positivas.head(1)"
   ]
  },
  {
   "cell_type": "code",
   "execution_count": null,
   "metadata": {},
   "outputs": [],
   "source": [
    "df_negativas.head(1)"
   ]
  },
  {
   "cell_type": "code",
   "execution_count": null,
   "metadata": {},
   "outputs": [],
   "source": [
    "positivas = str(list(df_positivas['cuerpo'].values))\n",
    "words = positivas.split()\n",
    "table = str.maketrans('', '', string.punctuation)\n",
    "positivas = [w.translate(table) for w in words]\n",
    "freq_positivas= nltk.FreqDist(positivas)\n",
    "freq_positivas"
   ]
  },
  {
   "cell_type": "code",
   "execution_count": null,
   "metadata": {},
   "outputs": [],
   "source": [
    "negativas = str(list(df_negativas['cuerpo'].values))\n",
    "words = negativas.split()\n",
    "table = str.maketrans('', '', string.punctuation)\n",
    "negativas = [w.translate(table) for w in words]\n",
    "freq_negativas= nltk.FreqDist(negativas)\n",
    "freq_negativas"
   ]
  },
  {
   "cell_type": "markdown",
   "metadata": {},
   "source": [
    "### Palabras positivas por frecuencia:"
   ]
  },
  {
   "cell_type": "code",
   "execution_count": null,
   "metadata": {},
   "outputs": [],
   "source": [
    "#frecuencia de palabras del cuerpo de reseñas\n",
    "data_positivos = pd.DataFrame(freq_positivas.items(),columns=['word','Frequency'])\n",
    "# ordenar por frecuencia\n",
    "data_positivos.sort_values('Frequency',inplace=True,ascending=False)\n",
    "data_positivos.head(5)"
   ]
  },
  {
   "cell_type": "markdown",
   "metadata": {},
   "source": [
    "### Palabras negativas según su frecuencia:"
   ]
  },
  {
   "cell_type": "code",
   "execution_count": null,
   "metadata": {},
   "outputs": [],
   "source": [
    "#frecuencia de palabras del cuerpo de reseñas\n",
    "data_negativas = pd.DataFrame(freq_negativas.items(),columns=['word','Frequency'])\n",
    "# ordenar por frecuencia\n",
    "data_negativas.sort_values('Frequency',inplace=True,ascending=False)\n",
    "data_negativas.head(5)"
   ]
  },
  {
   "cell_type": "markdown",
   "metadata": {},
   "source": [
    "### Vamos a visualizar en un gráfico las palabras positivas y negativas por frecuencia:"
   ]
  },
  {
   "cell_type": "code",
   "execution_count": null,
   "metadata": {},
   "outputs": [],
   "source": [
    "plt.figure(figsize = (20,12))\n",
    "plt.subplot(1,2,1)\n",
    "sns.barplot(x=data_positivos.iloc[:30].word,\n",
    "            y=data_positivos.iloc[:30].Frequency )\n",
    "\n",
    "plt.xticks(rotation=90)\n",
    "plt.title(\"Frecuencias de Palabras Positivas\")\n",
    "\n",
    "plt.subplot(1,2,2)\n",
    "sns.barplot(x=data_negativas.iloc[:30].word,\n",
    "            y=data_negativas.iloc[:30].Frequency)\n",
    "\n",
    "plt.xticks(rotation=90)\n",
    "plt.title(\"Frecuencias de Palabras Negativas\")\n",
    "plt.show()"
   ]
  },
  {
   "cell_type": "code",
   "execution_count": null,
   "metadata": {},
   "outputs": [],
   "source": [
    "positivas = str(positivas)\n",
    "negativas = str(negativas)"
   ]
  },
  {
   "cell_type": "markdown",
   "metadata": {},
   "source": [
    "# Creamos una nube de palabras con las positivas y negativas"
   ]
  },
  {
   "cell_type": "code",
   "execution_count": null,
   "metadata": {},
   "outputs": [],
   "source": [
    "from wordcloud import WordCloud\n",
    "#fig = plt.title(\"Nube de palabras para calificaciones POSITIVAS y NEGATIVAS\")\n",
    "fig = plt.figure(figsize=(20,12))\n",
    "\n",
    "ax1 = fig.add_subplot(2,1,1)\n",
    "wordcloud_pos = WordCloud(stopwords=stopwords,background_color=\"white\", colormap=\"Dark2\",max_font_size=200, random_state=42)\n",
    "wordcloud_pos = wordcloud_pos.generate(positivas)\n",
    "ax1.set_title('Nube de palabras para calificaciones POSITIVAS')\n",
    "ax1.imshow(wordcloud_pos)\n",
    "ax1.axis('off')\n",
    "\n",
    "ax2 = fig.add_subplot(2,1,2)\n",
    "wordcloud_neg = WordCloud(stopwords=stopwords,background_color=\"white\", colormap=\"Dark2\",max_font_size=200, random_state=42)\n",
    "wordcloud_neg = wordcloud_pos.generate(str(negativas))\n",
    "ax2.set_title('Nube de palabras para calificaciones NEGATIVAS')\n",
    "ax2.imshow(wordcloud_neg)\n",
    "ax2.axis('off')"
   ]
  },
  {
   "cell_type": "markdown",
   "metadata": {},
   "source": [
    "# Mejorará si convertimos el problema en binario ?\n",
    "Claramente Sí, ya que como vimos en las matrices de confusión los modelos pierden exactitud a medida que se acercan a una calificación media (2,3 y 4). Para esto, convertiremos las calificaciones en negativas (valores 1 y 2) representado con un 0, y positivas (valores 3,4 y 5) representados con un 1. y correremos rápido un algoritmo que funcionó bastante bien y es mucho más ágil que RF: SVM-SVC"
   ]
  },
  {
   "cell_type": "code",
   "execution_count": null,
   "metadata": {},
   "outputs": [],
   "source": [
    "backup.info()"
   ]
  },
  {
   "cell_type": "code",
   "execution_count": null,
   "metadata": {},
   "outputs": [],
   "source": [
    "backup = panda\n",
    "backup.stars = backup.stars.replace({1: 0,2: 0,3: 1,4: 1,5: 1})"
   ]
  },
  {
   "cell_type": "code",
   "execution_count": null,
   "metadata": {},
   "outputs": [],
   "source": [
    "x = backup.drop(columns=[\"stars\"])\n",
    "y = backup.stars\n",
    "from sklearn.model_selection import train_test_split\n",
    "xtrain, xtest, ytrain, ytest = train_test_split(x,y,test_size=0.3,random_state=42,stratify=y)"
   ]
  },
  {
   "cell_type": "code",
   "execution_count": null,
   "metadata": {},
   "outputs": [],
   "source": [
    "# Notar que en vez de utilizar SVC, vamos a usar LinearSVC. \n",
    "# Para el Kernel Lineal, esta función es MUCHO mas rapida que la tradicional SVC.\n",
    "from sklearn.svm import LinearSVC\n",
    "\n",
    "svc = LinearSVC(C = 1)\n",
    "svc.fit(xtrain,ytrain)\n",
    "svc.score(xtest,ytest)"
   ]
  },
  {
   "cell_type": "code",
   "execution_count": null,
   "metadata": {},
   "outputs": [],
   "source": [
    "y_pred_svm=svc.predict(xtest)\n",
    "confusion(ytest,y_pred_svm)"
   ]
  },
  {
   "cell_type": "code",
   "execution_count": null,
   "metadata": {},
   "outputs": [],
   "source": [
    "from sklearn.metrics import confusion_matrix, classification_report\n",
    "report=pd.DataFrame(classification_report(ytest, y_pred_svm, output_dict=True)).transpose() #otra manera de hacer\n",
    "print(\"Reporte de Clasificación BINARIA con SVM Linear SVC:\")\n",
    "report"
   ]
  },
  {
   "cell_type": "markdown",
   "metadata": {},
   "source": [
    "# Conclusiones:\n",
    "  \n",
    "Como los 3 dataset contenían los mismos tipos de datos, se unieron para ampliar el universo.\n",
    "Lamentablemente, debido a la capacidad de procesamiento de mi computadora, trabajé con una muestra del 10% para poder avanzar más agilmente en el proceso de prueba y error propio de cualquier proyecto.<BR>\n",
    "\n",
    "Del análisis realizado surge que luego del pre-procesamiento el mejor modelo fue Random Forest, mejorando los resultados del benchmark (SVM-SVC) en más del 50%.<BR>\n",
    "### Parte C - Problema binario:<BR>\n",
    "La tendencia sigue indicando que con cualquier modelo la exactitud es muy buena en los polos (1 y 5) pero disminuye a medida que se acercan al centro (2,3 y 4). En este sentido se reemplazaron las calificaciones originales por 0 (1,2 y 3) o 1 (4 y 5) y se probó un modelo SVM intentando predecir si el producto hubiera tenido una calificación negativa o positiva. El resultado del mismo arrojó una exactitud cercana al 80% , muy superior a la de los modelos utilizados anteriormente.<BR>\n",
    "Se me ocurre que pensar el problema como binario podría aplicarse a alguna política de fidelización del cliente, es decir una vez que haya puesto la reseña, pero antes de que ponga las estrellas, por ejemplo ofrecerle algún descuento o invitarlo a una instancia de chat con el objetivo de poder mejorar la imagen del producto o de la empresa ya que al fin y al cabo creo que sirve más el valor promedio de calificaciones (las estrellas que todos miramos antes de comprar un producto) que las reseñas a las cuales muchas veces no podemos dedicarle el tiempo.\n",
    "Otra alternativa que se me ocurre es que al ofrecerle el descuento , o posterior al chat, podríamos ofrecerle dejar la reseña o cambiarla, para que además de mejorar la calificación, haya oportunidad de mejora para la reseña.<BR>\n",
    "    <BR>\n",
    "### Parte C - Próximos pasos: <BR>\n",
    "    \n",
    "    \n",
    "1) Pudimos comprobar que el largo de las reseñas no incide en la calificación y que hay muchas palabras que se repiten para calificaciones positivas y negativas. Un problema alternativo que podría resolverse con los datos consistiría en buscar aquellas palabras que se repiten en productos con calificaciones de 1 y 5 y eliminarlas por ejemplo \"bien\" que por ejempo del análisis de frecuencias de palabras y mismo de la nube se visualiza rápidamente que es la más utilizada. Quizás al eliminar estas palabras cobren mayor relevancia palabras que se utilizaron más en productos de calificaciones intermedias (2, 3 y 4) y de esta forma podamos mejorar la exactitud en ese rango que es el menos preciso.\n",
    "\n",
    "2) En este sentido, y redoblando la apuesta creo que también agregaría valor ampliar la cantidad de n-gramas que configuramos como parámetro en la función CountVectorizer() ya que le agregaría contexto a palabras muy utilizadas, como por ejemplo calidad, que es top 3 tanto en reseñas positivas como negativas.<BR>\n",
    "Así es que un N-grama de 2 palabras nos ayudaría a  identificar:  \"pésima calidad\" o \"excelente calidad\" lo cual sería sumamente útil en función de la  calificación de ese producto.<BR>\n",
    "\n",
    "3) Por último, es sumamente conocido en el mundo de Machine Learning, en particular en lo relacionado con el PLN, que los algoritmos más avanzados y sofisticados estan pensados y optimizados para el lenguaje inglés. Es así que creo que sería una excelente idea utilizar \" la librería de \"google_trans_new\" que nos permite utilizar la api de Google Translate con la cual podríamos hacer un FOR, ir recorriendo las reseñas, las traducimos y las guardamos en una nueva columna \"reseña_ingles\". Al tenerla ya en inglés, podriamos utilizar librerías específicas, como polarity_scores de VADER que nos devolverá 4 valores: positivo, negativo, neutro y compuesto. Luego podríamos ver con una correlación de Pearson que valor toman entre ellas y con stars donde se guardan las calificaciones.\n",
    "<BR>\n",
    "### Vamos a ver una prueba de concepto:\n",
    "elegimos un registro al azar y mostramos el texto del cuerpo en español"
   ]
  },
  {
   "cell_type": "code",
   "execution_count": null,
   "metadata": {},
   "outputs": [],
   "source": [
    "panda.head()"
   ]
  },
  {
   "cell_type": "code",
   "execution_count": null,
   "metadata": {},
   "outputs": [],
   "source": [
    "import random\n",
    "esp = random.choice(ingles.cuerpo)\n",
    "esp"
   ]
  },
  {
   "cell_type": "code",
   "execution_count": null,
   "metadata": {},
   "outputs": [],
   "source": [
    "from google_trans_new import google_translator  \n",
    "\n",
    "def traduce_en(txt):\n",
    "    #traducimos al inglés\n",
    "    from google_trans_new import google_translator  \n",
    "    t = google_translator(timeout=5)\n",
    "    translate_text = t.translate(txt, \"en\")\n",
    "    return translate_text\n",
    "\n",
    "ingles = traduce_en(esp)\n",
    "\n",
    "print(\"============= INGLES ============\")\n",
    "print(ingles)\n",
    "print(\"=================================\")"
   ]
  },
  {
   "cell_type": "markdown",
   "metadata": {},
   "source": [
    "Muchas gracias por tu tiempo, espero haber cumplido con todos los objetivos del TP. Por mi parte me ayudó a consolidar muchos conceptos y a probar a intentar cosas nuevas.<BR><BR>\n",
    "    Mariano"
   ]
  }
 ],
 "metadata": {
  "colab": {
   "collapsed_sections": [],
   "name": "DS_Proyecto_03_NLP.ipynb",
   "provenance": []
  },
  "kernelspec": {
   "display_name": "Python 3",
   "language": "python",
   "name": "python3"
  },
  "language_info": {
   "codemirror_mode": {
    "name": "ipython",
    "version": 3
   },
   "file_extension": ".py",
   "mimetype": "text/x-python",
   "name": "python",
   "nbconvert_exporter": "python",
   "pygments_lexer": "ipython3",
   "version": "3.8.3"
  }
 },
 "nbformat": 4,
 "nbformat_minor": 4
}
